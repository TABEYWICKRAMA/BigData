{
  "nbformat": 4,
  "nbformat_minor": 0,
  "metadata": {
    "colab": {
      "provenance": [],
      "authorship_tag": "ABX9TyONRjM/gAufAOB5mQEI3KVc",
      "include_colab_link": true
    },
    "kernelspec": {
      "name": "python3",
      "display_name": "Python 3"
    },
    "language_info": {
      "name": "python"
    }
  },
  "cells": [
    {
      "cell_type": "markdown",
      "metadata": {
        "id": "view-in-github",
        "colab_type": "text"
      },
      "source": [
        "<a href=\"https://colab.research.google.com/github/TABEYWICKRAMA/BigData/blob/main/PySpark_HandsOnExperience_V5.ipynb\" target=\"_parent\"><img src=\"https://colab.research.google.com/assets/colab-badge.svg\" alt=\"Open In Colab\"/></a>"
      ]
    },
    {
      "cell_type": "markdown",
      "source": [
        "<img src='https://drive.google.com/uc?id=1SK8a3TPK2Q7kDmmVjDXn21CwDcNxrh9j'>"
      ],
      "metadata": {
        "id": "Cg_GCeBUD4Vx"
      }
    },
    {
      "cell_type": "markdown",
      "source": [
        "<img src='https://drive.google.com/uc?id=155Mc13qa5TcgX4JZ-FaPW-eQkarWFgIv'>"
      ],
      "metadata": {
        "id": "Wl7y4pMtEIkD"
      }
    },
    {
      "cell_type": "code",
      "source": [
        "#install PySpark\n",
        "!pip install pyspark"
      ],
      "metadata": {
        "colab": {
          "base_uri": "https://localhost:8080/"
        },
        "id": "U7kiK6Q9obS-",
        "outputId": "3e394007-4c3c-49f9-c92f-01d27c04bdb0"
      },
      "execution_count": 106,
      "outputs": [
        {
          "output_type": "stream",
          "name": "stdout",
          "text": [
            "Looking in indexes: https://pypi.org/simple, https://us-python.pkg.dev/colab-wheels/public/simple/\n",
            "Requirement already satisfied: pyspark in /usr/local/lib/python3.8/dist-packages (3.3.1)\n",
            "Requirement already satisfied: py4j==0.10.9.5 in /usr/local/lib/python3.8/dist-packages (from pyspark) (0.10.9.5)\n"
          ]
        }
      ]
    },
    {
      "cell_type": "code",
      "source": [
        "# Import SparkContext and SparkConf\n",
        "from pyspark import SparkContext, SparkConf"
      ],
      "metadata": {
        "id": "fXnayvQuofQb"
      },
      "execution_count": 107,
      "outputs": []
    },
    {
      "cell_type": "code",
      "source": [
        "conf = SparkConf().setAppName(\"PysparkBasics\").setMaster(\"local\")     #define configurations\n",
        "sc = SparkContext(conf=conf)        #create SparkContext using created configurations "
      ],
      "metadata": {
        "id": "Izfloh6UogB5"
      },
      "execution_count": 108,
      "outputs": []
    },
    {
      "cell_type": "code",
      "source": [
        "# sc.stop()"
      ],
      "metadata": {
        "id": "aoMB42HQxsrU"
      },
      "execution_count": 109,
      "outputs": []
    },
    {
      "cell_type": "code",
      "source": [
        "num = sc.parallelize([5,5,4,3,2,9,2])\n",
        "num.collect()"
      ],
      "metadata": {
        "colab": {
          "base_uri": "https://localhost:8080/"
        },
        "id": "frXrCQteoL4N",
        "outputId": "a6d4bffb-f532-40cd-9a23-dd40cd5b2c10"
      },
      "execution_count": 110,
      "outputs": [
        {
          "output_type": "execute_result",
          "data": {
            "text/plain": [
              "[5, 5, 4, 3, 2, 9, 2]"
            ]
          },
          "metadata": {},
          "execution_count": 110
        }
      ]
    },
    {
      "cell_type": "code",
      "source": [
        "num.map(lambda a : a*2).collect()"
      ],
      "metadata": {
        "colab": {
          "base_uri": "https://localhost:8080/"
        },
        "id": "Ew98TuJno9rE",
        "outputId": "2fc2eb12-c9fb-4126-afe2-24d1543239cc"
      },
      "execution_count": 111,
      "outputs": [
        {
          "output_type": "execute_result",
          "data": {
            "text/plain": [
              "[10, 10, 8, 6, 4, 18, 4]"
            ]
          },
          "metadata": {},
          "execution_count": 111
        }
      ]
    },
    {
      "cell_type": "code",
      "source": [
        "num.map(lambda a : pow(a,2)).collect()"
      ],
      "metadata": {
        "colab": {
          "base_uri": "https://localhost:8080/"
        },
        "id": "eGJ5m9kopDmN",
        "outputId": "243868d4-b9d0-45e0-bcb5-3935e686deb4"
      },
      "execution_count": 112,
      "outputs": [
        {
          "output_type": "execute_result",
          "data": {
            "text/plain": [
              "[25, 25, 16, 9, 4, 81, 4]"
            ]
          },
          "metadata": {},
          "execution_count": 112
        }
      ]
    },
    {
      "cell_type": "code",
      "source": [
        "names = sc.parallelize([\"Bills\",\"Mark\",\"Brain\",\"Mick\"])"
      ],
      "metadata": {
        "id": "oG6uH_IopSkO"
      },
      "execution_count": 113,
      "outputs": []
    },
    {
      "cell_type": "code",
      "source": [
        "names.map(lambda a : \"Mr. \"+a).collect()"
      ],
      "metadata": {
        "colab": {
          "base_uri": "https://localhost:8080/"
        },
        "id": "dReuAu96pNzI",
        "outputId": "e371031e-b536-44e0-9047-ea4a7acf58a4"
      },
      "execution_count": 114,
      "outputs": [
        {
          "output_type": "execute_result",
          "data": {
            "text/plain": [
              "['Mr. Bills', 'Mr. Mark', 'Mr. Brain', 'Mr. Mick']"
            ]
          },
          "metadata": {},
          "execution_count": 114
        }
      ]
    },
    {
      "cell_type": "markdown",
      "source": [
        "## **FlatMap**"
      ],
      "metadata": {
        "id": "AoIZWFyZyFG-"
      }
    },
    {
      "cell_type": "code",
      "source": [
        "rdd = sc.parallelize([ 2,3,4])\n",
        "rdd.collect()"
      ],
      "metadata": {
        "colab": {
          "base_uri": "https://localhost:8080/"
        },
        "id": "TBzRBxYBphEP",
        "outputId": "d2f4fb6a-54b8-4a83-934f-0ff70e850fde"
      },
      "execution_count": 115,
      "outputs": [
        {
          "output_type": "execute_result",
          "data": {
            "text/plain": [
              "[2, 3, 4]"
            ]
          },
          "metadata": {},
          "execution_count": 115
        }
      ]
    },
    {
      "cell_type": "code",
      "source": [
        "a = range(1,3)\n",
        "for i in a:\n",
        "  print(i)"
      ],
      "metadata": {
        "colab": {
          "base_uri": "https://localhost:8080/"
        },
        "id": "SNU3CpY6ypvJ",
        "outputId": "109cdd10-8722-4e95-bd72-9bf33a036e69"
      },
      "execution_count": 116,
      "outputs": [
        {
          "output_type": "stream",
          "name": "stdout",
          "text": [
            "1\n",
            "2\n"
          ]
        }
      ]
    },
    {
      "cell_type": "code",
      "source": [
        "(rdd.flatMap(lambda x: range(1,x)).collect())"
      ],
      "metadata": {
        "colab": {
          "base_uri": "https://localhost:8080/"
        },
        "id": "ENF7WVdty0Fu",
        "outputId": "97c5f15c-9657-4f27-f0cd-d06c789127a5"
      },
      "execution_count": 117,
      "outputs": [
        {
          "output_type": "execute_result",
          "data": {
            "text/plain": [
              "[1, 1, 2, 1, 2, 3]"
            ]
          },
          "metadata": {},
          "execution_count": 117
        }
      ]
    },
    {
      "cell_type": "code",
      "source": [
        "a = sc.parallelize([1,2,3])"
      ],
      "metadata": {
        "id": "CDMfbt1jy9tc"
      },
      "execution_count": 118,
      "outputs": []
    },
    {
      "cell_type": "code",
      "source": [
        "b = a.flatMap(lambda x: (x,x*10.57))\n",
        "b.collect()"
      ],
      "metadata": {
        "colab": {
          "base_uri": "https://localhost:8080/"
        },
        "id": "94qDVEvbzBUv",
        "outputId": "58ea6cbd-af63-4e30-8915-d90087425f67"
      },
      "execution_count": 119,
      "outputs": [
        {
          "output_type": "execute_result",
          "data": {
            "text/plain": [
              "[1, 10.57, 2, 21.14, 3, 31.71]"
            ]
          },
          "metadata": {},
          "execution_count": 119
        }
      ]
    },
    {
      "cell_type": "markdown",
      "source": [
        "## **Filter**"
      ],
      "metadata": {
        "id": "VPKRYbHBzPqr"
      }
    },
    {
      "cell_type": "code",
      "source": [
        "num.collect()"
      ],
      "metadata": {
        "colab": {
          "base_uri": "https://localhost:8080/"
        },
        "id": "j0eBoERBzO2Z",
        "outputId": "0afd8c10-d4bc-4795-91f8-20dedb730573"
      },
      "execution_count": 120,
      "outputs": [
        {
          "output_type": "execute_result",
          "data": {
            "text/plain": [
              "[5, 5, 4, 3, 2, 9, 2]"
            ]
          },
          "metadata": {},
          "execution_count": 120
        }
      ]
    },
    {
      "cell_type": "code",
      "source": [
        "num.filter(lambda x: x%2 ==0).collect()"
      ],
      "metadata": {
        "colab": {
          "base_uri": "https://localhost:8080/"
        },
        "id": "NFb5pXE4zbeX",
        "outputId": "45ccd090-41e0-4061-d6f8-f875ca7939a3"
      },
      "execution_count": 121,
      "outputs": [
        {
          "output_type": "execute_result",
          "data": {
            "text/plain": [
              "[4, 2, 2]"
            ]
          },
          "metadata": {},
          "execution_count": 121
        }
      ]
    },
    {
      "cell_type": "code",
      "source": [
        "names.collect()"
      ],
      "metadata": {
        "colab": {
          "base_uri": "https://localhost:8080/"
        },
        "id": "eFjjHMmHzpDg",
        "outputId": "868889f5-9cd4-4cdf-cb0e-7ec768c30161"
      },
      "execution_count": 122,
      "outputs": [
        {
          "output_type": "execute_result",
          "data": {
            "text/plain": [
              "['Bills', 'Mark', 'Brain', 'Mick']"
            ]
          },
          "metadata": {},
          "execution_count": 122
        }
      ]
    },
    {
      "cell_type": "code",
      "source": [
        "names.filter(lambda x: \"B\" in x).collect()"
      ],
      "metadata": {
        "colab": {
          "base_uri": "https://localhost:8080/"
        },
        "id": "EdwsV81yzrsp",
        "outputId": "3ab47df4-811b-4cce-e798-69a49ef7b26d"
      },
      "execution_count": 123,
      "outputs": [
        {
          "output_type": "execute_result",
          "data": {
            "text/plain": [
              "['Bills', 'Brain']"
            ]
          },
          "metadata": {},
          "execution_count": 123
        }
      ]
    },
    {
      "cell_type": "markdown",
      "source": [
        "## **Union**"
      ],
      "metadata": {
        "id": "svo4uoxXz2iC"
      }
    },
    {
      "cell_type": "code",
      "source": [
        "num.collect()"
      ],
      "metadata": {
        "colab": {
          "base_uri": "https://localhost:8080/"
        },
        "id": "6KsJcVpVz18P",
        "outputId": "8e993da4-09f3-4f98-acae-bcd8718f227e"
      },
      "execution_count": 124,
      "outputs": [
        {
          "output_type": "execute_result",
          "data": {
            "text/plain": [
              "[5, 5, 4, 3, 2, 9, 2]"
            ]
          },
          "metadata": {},
          "execution_count": 124
        }
      ]
    },
    {
      "cell_type": "code",
      "source": [
        "num2 = sc.parallelize([1,7,9,4,10,15])\n",
        "num2.collect()"
      ],
      "metadata": {
        "colab": {
          "base_uri": "https://localhost:8080/"
        },
        "id": "SAph65L0z86N",
        "outputId": "c3a41d14-60dd-4ac2-cdcf-9096eb1b6972"
      },
      "execution_count": 125,
      "outputs": [
        {
          "output_type": "execute_result",
          "data": {
            "text/plain": [
              "[1, 7, 9, 4, 10, 15]"
            ]
          },
          "metadata": {},
          "execution_count": 125
        }
      ]
    },
    {
      "cell_type": "code",
      "source": [
        "num.union(num2).collect()"
      ],
      "metadata": {
        "colab": {
          "base_uri": "https://localhost:8080/"
        },
        "id": "2Yozm41I0GKY",
        "outputId": "9cac5c3f-4a47-4c18-aef5-c378f4a98bba"
      },
      "execution_count": 126,
      "outputs": [
        {
          "output_type": "execute_result",
          "data": {
            "text/plain": [
              "[5, 5, 4, 3, 2, 9, 2, 1, 7, 9, 4, 10, 15]"
            ]
          },
          "metadata": {},
          "execution_count": 126
        }
      ]
    },
    {
      "cell_type": "code",
      "source": [
        "x = sc.parallelize([1,2,3],2)\n",
        "y = sc.parallelize([3,4],1)"
      ],
      "metadata": {
        "id": "2Gn28Cql0PYd"
      },
      "execution_count": 127,
      "outputs": []
    },
    {
      "cell_type": "code",
      "source": [
        "z = x.union(y)\n",
        "z.collect()"
      ],
      "metadata": {
        "colab": {
          "base_uri": "https://localhost:8080/"
        },
        "id": "4YNVAfgl0ht-",
        "outputId": "d90a5d2f-4819-43b4-96c5-d3489a12611f"
      },
      "execution_count": 128,
      "outputs": [
        {
          "output_type": "execute_result",
          "data": {
            "text/plain": [
              "[1, 2, 3, 3, 4]"
            ]
          },
          "metadata": {},
          "execution_count": 128
        }
      ]
    },
    {
      "cell_type": "markdown",
      "source": [
        "## **Sample**"
      ],
      "metadata": {
        "id": "dUqEqRAK0r62"
      }
    },
    {
      "cell_type": "code",
      "source": [
        "parallel = sc.parallelize(range(1,10))\n",
        "parallel.collect()"
      ],
      "metadata": {
        "colab": {
          "base_uri": "https://localhost:8080/"
        },
        "id": "agzwpa0Y0q8r",
        "outputId": "ef7afb06-ab41-40bb-b640-c2f112e6ea2f"
      },
      "execution_count": 129,
      "outputs": [
        {
          "output_type": "execute_result",
          "data": {
            "text/plain": [
              "[1, 2, 3, 4, 5, 6, 7, 8, 9]"
            ]
          },
          "metadata": {},
          "execution_count": 129
        }
      ]
    },
    {
      "cell_type": "code",
      "source": [
        "parallel.sample(True,.2).collect()"
      ],
      "metadata": {
        "colab": {
          "base_uri": "https://localhost:8080/"
        },
        "id": "rGykqiFs06Rl",
        "outputId": "44d2d506-0f28-4fc7-e9f2-e1206503ca29"
      },
      "execution_count": 130,
      "outputs": [
        {
          "output_type": "execute_result",
          "data": {
            "text/plain": [
              "[3, 5]"
            ]
          },
          "metadata": {},
          "execution_count": 130
        }
      ]
    },
    {
      "cell_type": "code",
      "source": [
        "parallel.sample(True,.2).collect()"
      ],
      "metadata": {
        "colab": {
          "base_uri": "https://localhost:8080/"
        },
        "id": "HHOCdidd1AEe",
        "outputId": "1ac0f4d1-fae0-4fd8-90c7-6bac145f28b8"
      },
      "execution_count": 131,
      "outputs": [
        {
          "output_type": "execute_result",
          "data": {
            "text/plain": [
              "[3, 6]"
            ]
          },
          "metadata": {},
          "execution_count": 131
        }
      ]
    },
    {
      "cell_type": "code",
      "source": [
        "parallel.sample(True,.2).collect()"
      ],
      "metadata": {
        "colab": {
          "base_uri": "https://localhost:8080/"
        },
        "id": "5ediVoxZ1Jbd",
        "outputId": "8bc26f2f-9038-4a7d-aa9d-79c4634ef77d"
      },
      "execution_count": 132,
      "outputs": [
        {
          "output_type": "execute_result",
          "data": {
            "text/plain": [
              "[5, 8]"
            ]
          },
          "metadata": {},
          "execution_count": 132
        }
      ]
    },
    {
      "cell_type": "code",
      "source": [
        "parallel.sample(True,.2).collect()"
      ],
      "metadata": {
        "colab": {
          "base_uri": "https://localhost:8080/"
        },
        "id": "WnAmeJbq1LM1",
        "outputId": "76fc7209-7f46-42c2-9b62-16762cea0ebc"
      },
      "execution_count": 133,
      "outputs": [
        {
          "output_type": "execute_result",
          "data": {
            "text/plain": [
              "[5]"
            ]
          },
          "metadata": {},
          "execution_count": 133
        }
      ]
    },
    {
      "cell_type": "code",
      "source": [
        "parallel.sample(True,.2).collect()"
      ],
      "metadata": {
        "colab": {
          "base_uri": "https://localhost:8080/"
        },
        "id": "7v77DexO1NaY",
        "outputId": "71a08d42-5a9e-4d17-fee0-47f390fc819a"
      },
      "execution_count": 134,
      "outputs": [
        {
          "output_type": "execute_result",
          "data": {
            "text/plain": [
              "[7, 8]"
            ]
          },
          "metadata": {},
          "execution_count": 134
        }
      ]
    },
    {
      "cell_type": "code",
      "source": [
        "parallel.sample(True,.2).collect()"
      ],
      "metadata": {
        "colab": {
          "base_uri": "https://localhost:8080/"
        },
        "id": "xojbg-cc1Ple",
        "outputId": "1d951195-9b7c-4e2a-d609-28631e210df1"
      },
      "execution_count": 135,
      "outputs": [
        {
          "output_type": "execute_result",
          "data": {
            "text/plain": [
              "[2, 2, 7]"
            ]
          },
          "metadata": {},
          "execution_count": 135
        }
      ]
    },
    {
      "cell_type": "code",
      "source": [
        "parallel.sample(True,.2).collect()"
      ],
      "metadata": {
        "colab": {
          "base_uri": "https://localhost:8080/"
        },
        "id": "n0ZhiH4J2jD4",
        "outputId": "c71769ce-f528-448c-f3d0-44053f707bea"
      },
      "execution_count": 136,
      "outputs": [
        {
          "output_type": "execute_result",
          "data": {
            "text/plain": [
              "[2, 4]"
            ]
          },
          "metadata": {},
          "execution_count": 136
        }
      ]
    },
    {
      "cell_type": "code",
      "source": [
        "parallel.sample(False,.2,seed=23).collect()"
      ],
      "metadata": {
        "colab": {
          "base_uri": "https://localhost:8080/"
        },
        "id": "3DI57PJb2k-Y",
        "outputId": "383d5d45-a504-45c3-e04e-d3e89a5b3bca"
      },
      "execution_count": 137,
      "outputs": [
        {
          "output_type": "execute_result",
          "data": {
            "text/plain": [
              "[4, 5]"
            ]
          },
          "metadata": {},
          "execution_count": 137
        }
      ]
    },
    {
      "cell_type": "markdown",
      "source": [
        "## **wide Transformation**"
      ],
      "metadata": {
        "id": "6WAfcH3s2zDL"
      }
    },
    {
      "cell_type": "markdown",
      "source": [
        "### 01. GroupBy"
      ],
      "metadata": {
        "id": "exRznS4L3S8X"
      }
    },
    {
      "cell_type": "code",
      "source": [
        "names.collect()"
      ],
      "metadata": {
        "colab": {
          "base_uri": "https://localhost:8080/"
        },
        "id": "deTtQate2xtg",
        "outputId": "6fe143e3-82b1-4f37-cfa0-0e9af6dd36c9"
      },
      "execution_count": 138,
      "outputs": [
        {
          "output_type": "execute_result",
          "data": {
            "text/plain": [
              "['Bills', 'Mark', 'Brain', 'Mick']"
            ]
          },
          "metadata": {},
          "execution_count": 138
        }
      ]
    },
    {
      "cell_type": "code",
      "source": [
        "names_gr = names.groupBy(lambda x: x[0])"
      ],
      "metadata": {
        "id": "YrliftyC26C6"
      },
      "execution_count": 139,
      "outputs": []
    },
    {
      "cell_type": "code",
      "source": [
        "names_gr.collect()"
      ],
      "metadata": {
        "colab": {
          "base_uri": "https://localhost:8080/"
        },
        "id": "e01rtoAH3Jeb",
        "outputId": "912db89f-0130-4846-c8fd-86abf38d4085"
      },
      "execution_count": 140,
      "outputs": [
        {
          "output_type": "execute_result",
          "data": {
            "text/plain": [
              "[('B', <pyspark.resultiterable.ResultIterable at 0x7fdde2ff87c0>),\n",
              " ('M', <pyspark.resultiterable.ResultIterable at 0x7fdde2fa6dc0>)]"
            ]
          },
          "metadata": {},
          "execution_count": 140
        }
      ]
    },
    {
      "cell_type": "code",
      "source": [
        "for (k,v) in names_gr.collect():\n",
        "  print(k,list(v))"
      ],
      "metadata": {
        "colab": {
          "base_uri": "https://localhost:8080/"
        },
        "id": "wfz10u_f3e_O",
        "outputId": "0091580a-a134-4a6d-adcf-2f0aa94d3e07"
      },
      "execution_count": 141,
      "outputs": [
        {
          "output_type": "stream",
          "name": "stdout",
          "text": [
            "B ['Bills', 'Brain']\n",
            "M ['Mark', 'Mick']\n"
          ]
        }
      ]
    },
    {
      "cell_type": "code",
      "source": [
        "aa = sc.parallelize([1,1,2,3,5,8])\n",
        "result = aa.groupBy(lambda x: x%2 ).collect()\n"
      ],
      "metadata": {
        "id": "_PUy5i023pIe"
      },
      "execution_count": 142,
      "outputs": []
    },
    {
      "cell_type": "code",
      "source": [
        "for (k,v) in result:\n",
        "  print(k, list(v))"
      ],
      "metadata": {
        "colab": {
          "base_uri": "https://localhost:8080/"
        },
        "id": "ANF5hQy03_5g",
        "outputId": "4aa0d0c4-de11-4501-db0a-8696bc0cfe2d"
      },
      "execution_count": 143,
      "outputs": [
        {
          "output_type": "stream",
          "name": "stdout",
          "text": [
            "1 [1, 1, 3, 5]\n",
            "0 [2, 8]\n"
          ]
        }
      ]
    },
    {
      "cell_type": "markdown",
      "source": [
        "### 02. Intersection"
      ],
      "metadata": {
        "id": "X1S0zBEn4LT9"
      }
    },
    {
      "cell_type": "code",
      "source": [
        "num.collect()"
      ],
      "metadata": {
        "colab": {
          "base_uri": "https://localhost:8080/"
        },
        "id": "rUEeyvzU4Qiu",
        "outputId": "2af922a2-c103-4d89-b4ed-96bc154d1386"
      },
      "execution_count": 144,
      "outputs": [
        {
          "output_type": "execute_result",
          "data": {
            "text/plain": [
              "[5, 5, 4, 3, 2, 9, 2]"
            ]
          },
          "metadata": {},
          "execution_count": 144
        }
      ]
    },
    {
      "cell_type": "code",
      "source": [
        "num2.collect()"
      ],
      "metadata": {
        "colab": {
          "base_uri": "https://localhost:8080/"
        },
        "id": "-ijOUmYN4XEc",
        "outputId": "c47a0f5d-fef2-4d4d-f632-e2a06e3bcf9c"
      },
      "execution_count": 145,
      "outputs": [
        {
          "output_type": "execute_result",
          "data": {
            "text/plain": [
              "[1, 7, 9, 4, 10, 15]"
            ]
          },
          "metadata": {},
          "execution_count": 145
        }
      ]
    },
    {
      "cell_type": "code",
      "source": [
        "num.intersection(num2).collect()"
      ],
      "metadata": {
        "colab": {
          "base_uri": "https://localhost:8080/"
        },
        "id": "wckGEaVo4ZR6",
        "outputId": "8e5f9cbb-f4cd-45ec-8e43-bd665eacd63b"
      },
      "execution_count": 146,
      "outputs": [
        {
          "output_type": "execute_result",
          "data": {
            "text/plain": [
              "[4, 9]"
            ]
          },
          "metadata": {},
          "execution_count": 146
        }
      ]
    },
    {
      "cell_type": "code",
      "source": [
        "num2.intersection(num).collect()"
      ],
      "metadata": {
        "colab": {
          "base_uri": "https://localhost:8080/"
        },
        "id": "kYzfqJSp4gOX",
        "outputId": "944c99cc-dd77-4ac0-a1bb-fa5e7d8f6603"
      },
      "execution_count": 147,
      "outputs": [
        {
          "output_type": "execute_result",
          "data": {
            "text/plain": [
              "[4, 9]"
            ]
          },
          "metadata": {},
          "execution_count": 147
        }
      ]
    },
    {
      "cell_type": "code",
      "source": [
        "num.subtract(num2).collect()"
      ],
      "metadata": {
        "colab": {
          "base_uri": "https://localhost:8080/"
        },
        "id": "X8YHDunF4jEs",
        "outputId": "21450029-129d-4c17-9bab-fc230970edd0"
      },
      "execution_count": 148,
      "outputs": [
        {
          "output_type": "execute_result",
          "data": {
            "text/plain": [
              "[2, 2, 5, 5, 3]"
            ]
          },
          "metadata": {},
          "execution_count": 148
        }
      ]
    },
    {
      "cell_type": "code",
      "source": [
        "num2.subtract(num).collect()"
      ],
      "metadata": {
        "colab": {
          "base_uri": "https://localhost:8080/"
        },
        "id": "UGe-DV3i4tmr",
        "outputId": "35a9ad6b-4810-4cb1-9b27-2d36db207157"
      },
      "execution_count": 149,
      "outputs": [
        {
          "output_type": "execute_result",
          "data": {
            "text/plain": [
              "[10, 1, 7, 15]"
            ]
          },
          "metadata": {},
          "execution_count": 149
        }
      ]
    },
    {
      "cell_type": "markdown",
      "source": [
        "## 03. Distinct"
      ],
      "metadata": {
        "id": "UHatNXxM4xuL"
      }
    },
    {
      "cell_type": "code",
      "source": [
        "num.collect()"
      ],
      "metadata": {
        "colab": {
          "base_uri": "https://localhost:8080/"
        },
        "id": "zr_qDWOt463S",
        "outputId": "9f73550d-a8e9-48e0-ddde-e6ac4f4d3800"
      },
      "execution_count": 150,
      "outputs": [
        {
          "output_type": "execute_result",
          "data": {
            "text/plain": [
              "[5, 5, 4, 3, 2, 9, 2]"
            ]
          },
          "metadata": {},
          "execution_count": 150
        }
      ]
    },
    {
      "cell_type": "code",
      "source": [
        "num.distinct().collect()"
      ],
      "metadata": {
        "colab": {
          "base_uri": "https://localhost:8080/"
        },
        "id": "zF0VaD9M5GR6",
        "outputId": "dff3e5c6-7737-44cd-f9db-20c169d8e93f"
      },
      "execution_count": 151,
      "outputs": [
        {
          "output_type": "execute_result",
          "data": {
            "text/plain": [
              "[5, 4, 3, 2, 9]"
            ]
          },
          "metadata": {},
          "execution_count": 151
        }
      ]
    }
  ]
}