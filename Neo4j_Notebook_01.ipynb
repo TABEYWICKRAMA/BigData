{
  "nbformat": 4,
  "nbformat_minor": 0,
  "metadata": {
    "colab": {
      "provenance": [],
      "authorship_tag": "ABX9TyOhlDr9GISrILrgNVJ9b1sb",
      "include_colab_link": true
    },
    "kernelspec": {
      "name": "python3",
      "display_name": "Python 3"
    },
    "language_info": {
      "name": "python"
    }
  },
  "cells": [
    {
      "cell_type": "markdown",
      "metadata": {
        "id": "view-in-github",
        "colab_type": "text"
      },
      "source": [
        "<a href=\"https://colab.research.google.com/github/TABEYWICKRAMA/BigData/blob/main/Neo4j_Notebook_01.ipynb\" target=\"_parent\"><img src=\"https://colab.research.google.com/assets/colab-badge.svg\" alt=\"Open In Colab\"/></a>"
      ]
    },
    {
      "cell_type": "markdown",
      "source": [
        "## install Neo4j "
      ],
      "metadata": {
        "id": "hFmL205pZi54"
      }
    },
    {
      "cell_type": "code",
      "execution_count": 9,
      "metadata": {
        "colab": {
          "base_uri": "https://localhost:8080/"
        },
        "id": "8rByUrI2MZdO",
        "outputId": "e888b838-e4f1-4ef5-94dd-f24dc514790f"
      },
      "outputs": [
        {
          "output_type": "stream",
          "name": "stdout",
          "text": [
            "Looking in indexes: https://pypi.org/simple, https://us-python.pkg.dev/colab-wheels/public/simple/\n",
            "Requirement already satisfied: neo4j in /usr/local/lib/python3.8/dist-packages (5.2.1)\n",
            "Requirement already satisfied: pytz in /usr/local/lib/python3.8/dist-packages (from neo4j) (2022.7)\n"
          ]
        }
      ],
      "source": [
        "!pip install neo4j"
      ]
    },
    {
      "cell_type": "markdown",
      "source": [
        "## Connect to the Database"
      ],
      "metadata": {
        "id": "Tt4v4i2mZqYX"
      }
    },
    {
      "cell_type": "code",
      "source": [
        "from neo4j import GraphDatabase\n",
        "\n",
        "# URI examples: \"neo4j://localhost\", \"neo4j+s://xxx.databases.neo4j.io\"\n",
        "URI = \"neo4j+s://42f16413.databases.neo4j.io\"\n",
        "AUTH = (\"neo4j\", \"gUne6S34xEyCTEtLYuyZ64NACH4Gplo-Qvx8Rm7GKhw\")\n",
        "print(\"connection successfull !!!\")\n",
        "\n",
        "with GraphDatabase.driver(URI, auth=AUTH) as driver:\n",
        "    driver.verify_connectivity()"
      ],
      "metadata": {
        "colab": {
          "base_uri": "https://localhost:8080/"
        },
        "id": "yxAD4OTHM5NJ",
        "outputId": "ad393c2a-beae-41c4-f1c6-047c2aaebb30"
      },
      "execution_count": 10,
      "outputs": [
        {
          "output_type": "stream",
          "name": "stdout",
          "text": [
            "connection successfull !!!\n"
          ]
        }
      ]
    },
    {
      "cell_type": "markdown",
      "source": [
        "## Query the database"
      ],
      "metadata": {
        "id": "PTZrnosaZxKf"
      }
    },
    {
      "cell_type": "markdown",
      "source": [
        "\n",
        "*   Write to the database\n",
        "\n",
        "\n"
      ],
      "metadata": {
        "id": "Fzmf1WKvaHeT"
      }
    },
    {
      "cell_type": "code",
      "source": [
        "def create_person(tx, name):  \n",
        "    result = tx.run(\n",
        "        \"MERGE (:Person {name: $name})\",  \n",
        "        name=name  \n",
        "    )\n",
        "    summary = result.consume()\n",
        "    return summary\n",
        "\n",
        "with driver.session(database=\"neo4j\") as session:\n",
        "    summary = session.execute_write(create_person, name=\"Alice\")  \n",
        "\n",
        "    print(\"Created {nodes_created} nodes in {time} ms.\".format(\n",
        "        nodes_created=summary.counters.nodes_created,\n",
        "        time=summary.result_available_after\n",
        "    ))"
      ],
      "metadata": {
        "colab": {
          "base_uri": "https://localhost:8080/"
        },
        "id": "1Au266cEOYVl",
        "outputId": "46330858-187c-41f2-d457-80ec01b0740a"
      },
      "execution_count": 15,
      "outputs": [
        {
          "output_type": "stream",
          "name": "stdout",
          "text": [
            "Created 0 nodes in 6 ms.\n"
          ]
        }
      ]
    },
    {
      "cell_type": "markdown",
      "source": [
        "*   Read from the database\n",
        "\n"
      ],
      "metadata": {
        "id": "x1B6uAS8aN0a"
      }
    },
    {
      "cell_type": "code",
      "source": [
        "def get_people(tx):\n",
        "    result = tx.run(\"MATCH (p:Person) RETURN p.name AS name\")\n",
        "    records = list(result)  # a list of Record objects\n",
        "    summary = result.consume()\n",
        "    return records, summary\n",
        "\n",
        "with driver.session(database=\"neo4j\") as session:\n",
        "    records, summary = session.execute_read(get_people)\n",
        "\n",
        "    # Summary information\n",
        "    print(\"The query `{query}` returned {records_count} records in {time} ms.\".format(\n",
        "        query=summary.query, records_count=len(records),\n",
        "        time=summary.result_available_after\n",
        "    ))\n",
        "\n",
        "    # Loop through results and do something with them\n",
        "    for person in records:\n",
        "        print(person.data())  # obtain record as dict"
      ],
      "metadata": {
        "colab": {
          "base_uri": "https://localhost:8080/"
        },
        "id": "HCEK7PDnO3Xi",
        "outputId": "a6bd4217-b010-4bcc-d0f3-130889a83adf"
      },
      "execution_count": 16,
      "outputs": [
        {
          "output_type": "stream",
          "name": "stdout",
          "text": [
            "The query `MATCH (p:Person) RETURN p.name AS name` returned 1 records in 3 ms.\n",
            "{'name': 'Alice'}\n"
          ]
        }
      ]
    },
    {
      "cell_type": "markdown",
      "source": [
        "\n",
        "\n",
        "*   Update the database\n",
        "\n"
      ],
      "metadata": {
        "id": "ifWcNDdwaXB0"
      }
    },
    {
      "cell_type": "code",
      "source": [
        "def update_person(tx, name, age):\n",
        "    result = tx.run(\"\"\"\n",
        "        MATCH (p:Person {name: $name})\n",
        "        SET p.age = $age\n",
        "        \"\"\", name=name, age=age\n",
        "    )\n",
        "    summary = result.consume()\n",
        "    return summary\n",
        "\n",
        "with driver.session(database=\"neo4j\") as session:\n",
        "    summary = session.execute_write(update_person, name=\"Alice\", age=42)\n",
        "    print(f\"Query counters: {summary.counters}.\")"
      ],
      "metadata": {
        "colab": {
          "base_uri": "https://localhost:8080/"
        },
        "id": "3KKLGonbae3P",
        "outputId": "90e21dd2-0c83-4e5d-aa53-c294d1a5ea12"
      },
      "execution_count": 17,
      "outputs": [
        {
          "output_type": "stream",
          "name": "stdout",
          "text": [
            "Query counters: {'properties_set': 1}.\n"
          ]
        }
      ]
    },
    {
      "cell_type": "markdown",
      "source": [
        "\n",
        "\n",
        "*   Delete from the database\n",
        "\n"
      ],
      "metadata": {
        "id": "XI4oGqona8cn"
      }
    },
    {
      "cell_type": "code",
      "source": [
        "def delete_person(tx, name):\n",
        "    result = tx.run(\"\"\"\n",
        "        MATCH (p:Person {name: $name})\n",
        "        DETACH DELETE p\n",
        "        \"\"\", name=\"Alice\"\n",
        "    )\n",
        "    summary = result.consume()\n",
        "    return summary\n",
        "\n",
        "with driver.session(database=\"neo4j\") as session:\n",
        "    summary = session.execute_write(delete_person, name=\"Alice\")\n",
        "    print(f\"Query counters: {summary.counters}.\")"
      ],
      "metadata": {
        "colab": {
          "base_uri": "https://localhost:8080/"
        },
        "id": "SwYr6IpRbDH2",
        "outputId": "f32ffa8f-e644-4bd4-86b1-c76e4b2c656e"
      },
      "execution_count": 19,
      "outputs": [
        {
          "output_type": "stream",
          "name": "stdout",
          "text": [
            "Query counters: {'nodes_deleted': 1}.\n"
          ]
        }
      ]
    }
  ]
}