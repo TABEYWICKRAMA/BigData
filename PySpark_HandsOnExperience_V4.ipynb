{
  "cells": [
    {
      "cell_type": "markdown",
      "metadata": {
        "id": "view-in-github",
        "colab_type": "text"
      },
      "source": [
        "<a href=\"https://colab.research.google.com/github/TABEYWICKRAMA/BigData/blob/main/PySpark_HandsOnExperience_V4.ipynb\" target=\"_parent\"><img src=\"https://colab.research.google.com/assets/colab-badge.svg\" alt=\"Open In Colab\"/></a>"
      ]
    },
    {
      "cell_type": "markdown",
      "metadata": {
        "id": "cG6dUNOjLD2V"
      },
      "source": [
        "\n",
        "*   SparkContext is the main entry point to use PySpark features.\n",
        "*   SparkContext represents the connection to a Spark Cluster.\n",
        "*   Only one SparkContext must be active per JVM.\n",
        "*   must stop() the active SparkContext before creating new one."
      ]
    },
    {
      "cell_type": "code",
      "execution_count": 1,
      "metadata": {
        "colab": {
          "base_uri": "https://localhost:8080/"
        },
        "id": "V39eqc0Y2LxG",
        "outputId": "def859c3-91c6-423c-e04f-544091cd4e4b"
      },
      "outputs": [
        {
          "output_type": "stream",
          "name": "stdout",
          "text": [
            "Looking in indexes: https://pypi.org/simple, https://us-python.pkg.dev/colab-wheels/public/simple/\n",
            "Collecting pyspark\n",
            "  Downloading pyspark-3.3.1.tar.gz (281.4 MB)\n",
            "\u001b[2K     \u001b[90m━━━━━━━━━━━━━━━━━━━━━━━━━━━━━━━━━━━━━━━\u001b[0m \u001b[32m281.4/281.4 MB\u001b[0m \u001b[31m5.4 MB/s\u001b[0m eta \u001b[36m0:00:00\u001b[0m\n",
            "\u001b[?25h  Preparing metadata (setup.py) ... \u001b[?25l\u001b[?25hdone\n",
            "Collecting py4j==0.10.9.5\n",
            "  Downloading py4j-0.10.9.5-py2.py3-none-any.whl (199 kB)\n",
            "\u001b[2K     \u001b[90m━━━━━━━━━━━━━━━━━━━━━━━━━━━━━━━━━━━━━━\u001b[0m \u001b[32m199.7/199.7 KB\u001b[0m \u001b[31m21.3 MB/s\u001b[0m eta \u001b[36m0:00:00\u001b[0m\n",
            "\u001b[?25hBuilding wheels for collected packages: pyspark\n",
            "  Building wheel for pyspark (setup.py) ... \u001b[?25l\u001b[?25hdone\n",
            "  Created wheel for pyspark: filename=pyspark-3.3.1-py2.py3-none-any.whl size=281845512 sha256=9570823f46194d6198450eb30172a5381a35c0e8e413a6513344899c64471940\n",
            "  Stored in directory: /root/.cache/pip/wheels/43/dc/11/ec201cd671da62fa9c5cc77078235e40722170ceba231d7598\n",
            "Successfully built pyspark\n",
            "Installing collected packages: py4j, pyspark\n",
            "Successfully installed py4j-0.10.9.5 pyspark-3.3.1\n"
          ]
        }
      ],
      "source": [
        "#install PySpark\n",
        "!pip install pyspark"
      ]
    },
    {
      "cell_type": "code",
      "execution_count": 2,
      "metadata": {
        "id": "eWpjxfKn2AYf"
      },
      "outputs": [],
      "source": [
        "# Import SparkContext and SparkConf\n",
        "from pyspark import SparkContext, SparkConf"
      ]
    },
    {
      "cell_type": "markdown",
      "metadata": {
        "id": "-q0AYLT4MqOI"
      },
      "source": [
        "## One way to create SparkContext"
      ]
    },
    {
      "cell_type": "markdown",
      "metadata": {
        "id": "mMURxiHzNJYh"
      },
      "source": [
        "\n",
        "\n",
        "*   SparkContext - use to get PySpark features.\n",
        "*   SparkConf    - use to define configurations. (ex: AppName) these configurations are useful when creating SparkContext\n",
        "\n"
      ]
    },
    {
      "cell_type": "code",
      "execution_count": 3,
      "metadata": {
        "id": "xyxmk4xF2CtU"
      },
      "outputs": [],
      "source": [
        "conf = SparkConf().setAppName(\"PysparkBasics\").setMaster(\"local\")     #define configurations\n",
        "sc = SparkContext(conf=conf)        #create SparkContext using created configurations "
      ]
    },
    {
      "cell_type": "code",
      "execution_count": 4,
      "metadata": {
        "colab": {
          "base_uri": "https://localhost:8080/"
        },
        "id": "r24EQnhx2ZBD",
        "outputId": "e1e7eeae-dbd6-4532-8ba3-de2660730c22"
      },
      "outputs": [
        {
          "output_type": "execute_result",
          "data": {
            "text/plain": [
              "[('spark.master', 'local'),\n",
              " ('spark.driver.extraJavaOptions',\n",
              "  '-XX:+IgnoreUnrecognizedVMOptions --add-opens=java.base/java.lang=ALL-UNNAMED --add-opens=java.base/java.lang.invoke=ALL-UNNAMED --add-opens=java.base/java.lang.reflect=ALL-UNNAMED --add-opens=java.base/java.io=ALL-UNNAMED --add-opens=java.base/java.net=ALL-UNNAMED --add-opens=java.base/java.nio=ALL-UNNAMED --add-opens=java.base/java.util=ALL-UNNAMED --add-opens=java.base/java.util.concurrent=ALL-UNNAMED --add-opens=java.base/java.util.concurrent.atomic=ALL-UNNAMED --add-opens=java.base/sun.nio.ch=ALL-UNNAMED --add-opens=java.base/sun.nio.cs=ALL-UNNAMED --add-opens=java.base/sun.security.action=ALL-UNNAMED --add-opens=java.base/sun.util.calendar=ALL-UNNAMED --add-opens=java.security.jgss/sun.security.krb5=ALL-UNNAMED'),\n",
              " ('spark.executor.id', 'driver'),\n",
              " ('spark.app.submitTime', '1673148787641'),\n",
              " ('spark.app.startTime', '1673148787862'),\n",
              " ('spark.app.id', 'local-1673148789173'),\n",
              " ('spark.rdd.compress', 'True'),\n",
              " ('spark.executor.extraJavaOptions',\n",
              "  '-XX:+IgnoreUnrecognizedVMOptions --add-opens=java.base/java.lang=ALL-UNNAMED --add-opens=java.base/java.lang.invoke=ALL-UNNAMED --add-opens=java.base/java.lang.reflect=ALL-UNNAMED --add-opens=java.base/java.io=ALL-UNNAMED --add-opens=java.base/java.net=ALL-UNNAMED --add-opens=java.base/java.nio=ALL-UNNAMED --add-opens=java.base/java.util=ALL-UNNAMED --add-opens=java.base/java.util.concurrent=ALL-UNNAMED --add-opens=java.base/java.util.concurrent.atomic=ALL-UNNAMED --add-opens=java.base/sun.nio.ch=ALL-UNNAMED --add-opens=java.base/sun.nio.cs=ALL-UNNAMED --add-opens=java.base/sun.security.action=ALL-UNNAMED --add-opens=java.base/sun.util.calendar=ALL-UNNAMED --add-opens=java.security.jgss/sun.security.krb5=ALL-UNNAMED'),\n",
              " ('spark.app.name', 'PysparkBasics'),\n",
              " ('spark.serializer.objectStreamReset', '100'),\n",
              " ('spark.submit.pyFiles', ''),\n",
              " ('spark.submit.deployMode', 'client'),\n",
              " ('spark.driver.host', 'c25618d7e8f1'),\n",
              " ('spark.driver.port', '45717'),\n",
              " ('spark.ui.showConsoleProgress', 'true')]"
            ]
          },
          "metadata": {},
          "execution_count": 4
        }
      ],
      "source": [
        "sc.getConf().getAll()   #show all the configurations that are relevant for this SparkContext"
      ]
    },
    {
      "cell_type": "code",
      "execution_count": 5,
      "metadata": {
        "id": "GbuacayF3FOu"
      },
      "outputs": [],
      "source": [
        "# sc.stop()     #used to stop active SparkContext"
      ]
    },
    {
      "cell_type": "markdown",
      "metadata": {
        "id": "W5VbEEyKXpyf"
      },
      "source": [
        "## RDD - Reselient Distributed Dataset\n",
        "\n",
        "\n",
        "*   RDD is much like a Dataset.\n",
        "*   we can create RDD using HDFS Storage, Local Storage or .csv or anyway\n",
        "*   RDD could be divided into multiple partitions. accessing these RDDs faster. \n",
        "\n",
        "\n",
        "\n",
        "\n"
      ]
    },
    {
      "cell_type": "markdown",
      "metadata": {
        "id": "DICJdY6lZDC2"
      },
      "source": [
        "Before apply ML algorithm into RDD we need to preprocess the data. this is called as \"Operations\" in PySpark. Operations on RDD,\n",
        "1.   Transformations\n",
        "\n",
        "        *   map()\n",
        "        *   flatmap()\n",
        "        *   filter()\n",
        "        *   distinct()\n",
        "        *   reduceByKey()\n",
        "        *   groupByKey()\n",
        "        *   mapValues()\n",
        "        *   flatMapValues()\n",
        "        *   sortByKey()\n",
        "\n",
        "2.   Action\n",
        "\n",
        "        *   Collect()\n",
        "        *   Count()\n",
        "        *   countByValue()\n",
        "        *   Take()\n",
        "        *   Top()\n",
        "        *   Reduce()\n",
        "        *   Fold()\n",
        "        *   Foreach()\n",
        "        *   savaAsTextFile()\n",
        "\n",
        "---\n",
        "\n",
        "\n",
        "\n"
      ]
    },
    {
      "cell_type": "markdown",
      "metadata": {
        "id": "_2E-5OtwZsxk"
      },
      "source": [
        "*   Transformations : In PySpark Transformations are \"Lazly evaluated\". That's mean, when we perform Transformation it will create a new RDD. \n",
        "  *   when we apply any Transformation on RDD it will create **DAG** (Directed Acyclic Graph)\n",
        "\n",
        "\n",
        "\n",
        "*   Action : when we apply a Action on RDD it will give us a perticular value(integer, string, etc). \n",
        "  *   when we apply an Action on RDD, it will execute all of the transformations apply on the RDD.\n",
        "\n",
        "\n"
      ]
    },
    {
      "cell_type": "markdown",
      "metadata": {
        "id": "AsHezGvy4o_6"
      },
      "source": [
        "## Create RDD and their Basic Actions"
      ]
    },
    {
      "cell_type": "markdown",
      "metadata": {
        "id": "DnnVPz_Veibi"
      },
      "source": [
        "***parallelize function - use to distribute data among the cluster***"
      ]
    },
    {
      "cell_type": "code",
      "execution_count": 6,
      "metadata": {
        "id": "0U9iHtHP4geF"
      },
      "outputs": [],
      "source": [
        "names = sc.parallelize(['Adam','Cray','Shaun','Brain','Mark','Christ','Frans','Mark','Adam','Adam','Bill'])\n",
        "# in here 'names' is the RDD"
      ]
    },
    {
      "cell_type": "code",
      "execution_count": 7,
      "metadata": {
        "colab": {
          "base_uri": "https://localhost:8080/"
        },
        "id": "8armrc9q5GIw",
        "outputId": "8e3d4562-9f15-4282-a303-f22ed10997ac"
      },
      "outputs": [
        {
          "output_type": "execute_result",
          "data": {
            "text/plain": [
              "pyspark.rdd.RDD"
            ]
          },
          "metadata": {},
          "execution_count": 7
        }
      ],
      "source": [
        "type(names)"
      ]
    },
    {
      "cell_type": "code",
      "execution_count": 8,
      "metadata": {
        "colab": {
          "base_uri": "https://localhost:8080/"
        },
        "id": "faogfYAm5JNC",
        "outputId": "de72fa11-ed2d-4f4f-9979-820b94bff974"
      },
      "outputs": [
        {
          "output_type": "execute_result",
          "data": {
            "text/plain": [
              "defaultdict(int,\n",
              "            {'Adam': 3,\n",
              "             'Cray': 1,\n",
              "             'Shaun': 1,\n",
              "             'Brain': 1,\n",
              "             'Mark': 2,\n",
              "             'Christ': 1,\n",
              "             'Frans': 1,\n",
              "             'Bill': 1})"
            ]
          },
          "metadata": {},
          "execution_count": 8
        }
      ],
      "source": [
        "names.countByValue()"
      ]
    },
    {
      "cell_type": "code",
      "execution_count": 9,
      "metadata": {
        "colab": {
          "base_uri": "https://localhost:8080/"
        },
        "id": "djrn4gOY5PMK",
        "outputId": "bae4c360-5544-451c-a29b-736007ed56a6"
      },
      "outputs": [
        {
          "output_type": "execute_result",
          "data": {
            "text/plain": [
              "['Adam',\n",
              " 'Cray',\n",
              " 'Shaun',\n",
              " 'Brain',\n",
              " 'Mark',\n",
              " 'Christ',\n",
              " 'Frans',\n",
              " 'Mark',\n",
              " 'Adam',\n",
              " 'Adam',\n",
              " 'Bill']"
            ]
          },
          "metadata": {},
          "execution_count": 9
        }
      ],
      "source": [
        "names.collect()     #when we use 'collect' all the data will come to the RAM"
      ]
    },
    {
      "cell_type": "code",
      "execution_count": 10,
      "metadata": {
        "colab": {
          "base_uri": "https://localhost:8080/"
        },
        "id": "Y-WvWcrj5be6",
        "outputId": "945f1e46-a459-4755-ff3b-3df0f7f6bd15"
      },
      "outputs": [
        {
          "output_type": "execute_result",
          "data": {
            "text/plain": [
              "['Adam', 'Cray', 'Shaun', 'Brain', 'Mark']"
            ]
          },
          "metadata": {},
          "execution_count": 10
        }
      ],
      "source": [
        "names.take(5)         #we use 'take' keyword, using this we can load only necessary data to RAM.\n",
        "# this will return first 5 values"
      ]
    },
    {
      "cell_type": "markdown",
      "metadata": {
        "id": "7KtH3Sonh_Py"
      },
      "source": [
        "## Foreach \n",
        "*   Foreach is an action\n",
        "*   this takes each element and applies a function. \n",
        "*   but Foreach does not return any value. \n",
        "*   this is useful for perform some calculation on an RDD and log the result somewhere else. \n",
        "\n",
        "\n",
        "\n"
      ]
    },
    {
      "cell_type": "code",
      "execution_count": 11,
      "metadata": {
        "id": "MEGeLWDSgim0"
      },
      "outputs": [],
      "source": [
        "def f(x): print(x)\n",
        "a=sc.parallelize([1,2,3,4,5]).foreach(lambda x : print(x))"
      ]
    },
    {
      "cell_type": "code",
      "execution_count": 12,
      "metadata": {
        "colab": {
          "base_uri": "https://localhost:8080/"
        },
        "id": "SBqtBRbAh3MI",
        "outputId": "3d002b2f-55be-4c6a-b1ec-e59419c90975"
      },
      "outputs": [
        {
          "output_type": "execute_result",
          "data": {
            "text/plain": [
              "NoneType"
            ]
          },
          "metadata": {},
          "execution_count": 12
        }
      ],
      "source": [
        "type(a)"
      ]
    },
    {
      "cell_type": "code",
      "execution_count": 13,
      "metadata": {
        "id": "_idv_5jR158b"
      },
      "outputs": [],
      "source": [
        "employees = sc.textFile(\"/content/drive/MyDrive/PySpark/names.txt.txt\")\n",
        "# in here we use 'names.txt' file as our RDD"
      ]
    },
    {
      "cell_type": "code",
      "execution_count": 14,
      "metadata": {
        "colab": {
          "base_uri": "https://localhost:8080/"
        },
        "id": "U3BPF0-j2DcU",
        "outputId": "1b11c1c6-f16c-4bce-c70d-8116165fc467"
      },
      "outputs": [
        {
          "output_type": "execute_result",
          "data": {
            "text/plain": [
              "pyspark.rdd.RDD"
            ]
          },
          "metadata": {},
          "execution_count": 14
        }
      ],
      "source": [
        "type(employees)"
      ]
    },
    {
      "cell_type": "code",
      "execution_count": 15,
      "metadata": {
        "colab": {
          "base_uri": "https://localhost:8080/"
        },
        "id": "rqw9nm6n2GIj",
        "outputId": "95f3f003-65ea-4894-c8f7-7636cfdfa742"
      },
      "outputs": [
        {
          "output_type": "execute_result",
          "data": {
            "text/plain": [
              "[\"'Adam'\",\n",
              " \"'Cray'\",\n",
              " \"'Shaun'\",\n",
              " \"'Mark'\",\n",
              " \"'Christ'\",\n",
              " \"'Frans'\",\n",
              " \"'Mark'\",\n",
              " \"'Adam'\",\n",
              " \"'Adam'\",\n",
              " \"'Bill'\",\n",
              " \"'Adam'\",\n",
              " \"'Cray'\",\n",
              " \"'Shaun'\",\n",
              " \"'Brain'\",\n",
              " \"'Mark'\",\n",
              " \"'Christ'\",\n",
              " \"'Frans'\",\n",
              " \"'Mark'\",\n",
              " \"'Adam'\",\n",
              " \"'Adam'\",\n",
              " \"'Bill'\"]"
            ]
          },
          "metadata": {},
          "execution_count": 15
        }
      ],
      "source": [
        "employees.collect()"
      ]
    },
    {
      "cell_type": "code",
      "execution_count": 16,
      "metadata": {
        "colab": {
          "base_uri": "https://localhost:8080/",
          "height": 36
        },
        "id": "b08Hbqor2Un0",
        "outputId": "8122a801-a021-4f77-c3ab-a0f4c2a71ade"
      },
      "outputs": [
        {
          "output_type": "execute_result",
          "data": {
            "text/plain": [
              "\"'Adam'\""
            ],
            "application/vnd.google.colaboratory.intrinsic+json": {
              "type": "string"
            }
          },
          "metadata": {},
          "execution_count": 16
        }
      ],
      "source": [
        "employees.first()"
      ]
    },
    {
      "cell_type": "code",
      "execution_count": 17,
      "metadata": {
        "colab": {
          "base_uri": "https://localhost:8080/"
        },
        "id": "CxFrom1A28hq",
        "outputId": "e781e74e-d54e-46aa-f1e7-6fa44566e15c"
      },
      "outputs": [
        {
          "output_type": "execute_result",
          "data": {
            "text/plain": [
              "21"
            ]
          },
          "metadata": {},
          "execution_count": 17
        }
      ],
      "source": [
        "employees.count()"
      ]
    },
    {
      "cell_type": "code",
      "execution_count": 18,
      "metadata": {
        "colab": {
          "base_uri": "https://localhost:8080/"
        },
        "id": "9EJ-qJOm3BEz",
        "outputId": "3c59b8c6-817d-417c-863f-9fb87e15f43a"
      },
      "outputs": [
        {
          "output_type": "execute_result",
          "data": {
            "text/plain": [
              "[\"'Shaun'\", \"'Shaun'\", \"'Mark'\", \"'Mark'\", \"'Mark'\"]"
            ]
          },
          "metadata": {},
          "execution_count": 18
        }
      ],
      "source": [
        "employees.top(5)"
      ]
    },
    {
      "cell_type": "code",
      "execution_count": 19,
      "metadata": {
        "colab": {
          "base_uri": "https://localhost:8080/"
        },
        "id": "AKAIvrGA3SmD",
        "outputId": "474eff69-eb79-4c5f-c4d3-c65b2a6bc042"
      },
      "outputs": [
        {
          "output_type": "execute_result",
          "data": {
            "text/plain": [
              "8"
            ]
          },
          "metadata": {},
          "execution_count": 19
        }
      ],
      "source": [
        "employees.distinct().count()"
      ]
    },
    {
      "cell_type": "markdown",
      "metadata": {
        "id": "SXPBDcDV9TrP"
      },
      "source": [
        "## Taking number example for better clarity"
      ]
    },
    {
      "cell_type": "code",
      "execution_count": 20,
      "metadata": {
        "id": "iNUBcDE64aQy"
      },
      "outputs": [],
      "source": [
        "num = sc.parallelize([5,5,4,3,2,9,2],3)"
      ]
    },
    {
      "cell_type": "code",
      "execution_count": 21,
      "metadata": {
        "colab": {
          "base_uri": "https://localhost:8080/"
        },
        "id": "Cc8Lz4NG9rLw",
        "outputId": "56ce907d-a14e-4d55-f0c4-6395ffeb9866"
      },
      "outputs": [
        {
          "output_type": "execute_result",
          "data": {
            "text/plain": [
              "defaultdict(int, {5: 2, 4: 1, 3: 1, 2: 2, 9: 1})"
            ]
          },
          "metadata": {},
          "execution_count": 21
        }
      ],
      "source": [
        "num.countByValue()      #this prints how many times each value comes."
      ]
    },
    {
      "cell_type": "code",
      "execution_count": 22,
      "metadata": {
        "colab": {
          "base_uri": "https://localhost:8080/"
        },
        "id": "fzJFqnB19wuo",
        "outputId": "fd1b475f-55af-4ea1-9a71-df9698f9c401"
      },
      "outputs": [
        {
          "output_type": "execute_result",
          "data": {
            "text/plain": [
              "pyspark.rdd.RDD"
            ]
          },
          "metadata": {},
          "execution_count": 22
        }
      ],
      "source": [
        "type(num)"
      ]
    },
    {
      "cell_type": "markdown",
      "metadata": {
        "id": "nt0hPg7t97ZI"
      },
      "source": [
        "## GLOM : RDD OF TUPLES"
      ]
    },
    {
      "cell_type": "markdown",
      "metadata": {
        "id": "41XWVuTsz2YN"
      },
      "source": [
        "*   Spark does not allow the worker to  refer to the specific partitions in RDD. \n",
        "*   Because in Spark, information is stored in different different partitions in each RDD.\n",
        "*   but GLOM transform each partition into tuple.\n",
        "*   we use GLOM function to make each partitions into tuple.\n"
      ]
    },
    {
      "cell_type": "code",
      "execution_count": 23,
      "metadata": {
        "colab": {
          "base_uri": "https://localhost:8080/"
        },
        "id": "3YbXowqg98ZH",
        "outputId": "b4aecf83-2374-448d-e1b4-524e3c4e29fe"
      },
      "outputs": [
        {
          "output_type": "execute_result",
          "data": {
            "text/plain": [
              "[[5, 5], [4, 3], [2, 9, 2]]"
            ]
          },
          "metadata": {},
          "execution_count": 23
        }
      ],
      "source": [
        "num.glom().collect()     #num = sc.parallelize([5,5,4,3,2,9,2],3) ->   [[5, 5], [4, 3], [2, 9, 2]] \n",
        "                         # because we gave numSlices = 3. (no of partitions = no of lists = numSlices)"
      ]
    },
    {
      "cell_type": "code",
      "execution_count": 24,
      "metadata": {
        "colab": {
          "base_uri": "https://localhost:8080/"
        },
        "id": "aXXlp26S-aSy",
        "outputId": "8be2ffed-316a-48c3-c96c-d09bb6c02a2b"
      },
      "outputs": [
        {
          "output_type": "execute_result",
          "data": {
            "text/plain": [
              "[4, 3]"
            ]
          },
          "metadata": {},
          "execution_count": 24
        }
      ],
      "source": [
        "num.glom().collect()[1]"
      ]
    },
    {
      "cell_type": "code",
      "execution_count": 25,
      "metadata": {
        "colab": {
          "base_uri": "https://localhost:8080/"
        },
        "id": "b0ZbjUxn-eBv",
        "outputId": "d08cf1cd-b063-4d46-c1a1-182570f4def0"
      },
      "outputs": [
        {
          "output_type": "execute_result",
          "data": {
            "text/plain": [
              "pyspark.rdd.PipelinedRDD"
            ]
          },
          "metadata": {},
          "execution_count": 25
        }
      ],
      "source": [
        "type(num.glom())"
      ]
    },
    {
      "cell_type": "code",
      "execution_count": 26,
      "metadata": {
        "colab": {
          "base_uri": "https://localhost:8080/"
        },
        "id": "4EqldNgh-krf",
        "outputId": "29747a2d-c0de-4760-8890-06808a492f10"
      },
      "outputs": [
        {
          "output_type": "execute_result",
          "data": {
            "text/plain": [
              "9"
            ]
          },
          "metadata": {},
          "execution_count": 26
        }
      ],
      "source": [
        "num.max()"
      ]
    },
    {
      "cell_type": "code",
      "execution_count": 27,
      "metadata": {
        "colab": {
          "base_uri": "https://localhost:8080/"
        },
        "id": "kbDZKKGY-2Y3",
        "outputId": "679782cd-0576-4ee3-9a0b-614216349997"
      },
      "outputs": [
        {
          "output_type": "execute_result",
          "data": {
            "text/plain": [
              "2"
            ]
          },
          "metadata": {},
          "execution_count": 27
        }
      ],
      "source": [
        "num.min()"
      ]
    },
    {
      "cell_type": "code",
      "execution_count": 28,
      "metadata": {
        "colab": {
          "base_uri": "https://localhost:8080/"
        },
        "id": "uOnBnxaz-553",
        "outputId": "9ef7e162-ac93-4f7d-8ae8-4fceb9726dad"
      },
      "outputs": [
        {
          "output_type": "execute_result",
          "data": {
            "text/plain": [
              "4.285714285714286"
            ]
          },
          "metadata": {},
          "execution_count": 28
        }
      ],
      "source": [
        "num.mean()"
      ]
    },
    {
      "cell_type": "markdown",
      "metadata": {
        "id": "fiBcGYlvAqUA"
      },
      "source": [
        "## Reduce() Action\n",
        "\n",
        "---\n",
        "\n",
        "\n"
      ]
    },
    {
      "cell_type": "code",
      "execution_count": 29,
      "metadata": {
        "colab": {
          "base_uri": "https://localhost:8080/"
        },
        "id": "fOpCC4rtAoyo",
        "outputId": "3de64b06-448d-4eca-c26d-594e9d59898d"
      },
      "outputs": [
        {
          "output_type": "execute_result",
          "data": {
            "text/plain": [
              "[5, 5, 4, 3, 2, 9, 2]"
            ]
          },
          "metadata": {},
          "execution_count": 29
        }
      ],
      "source": [
        "num.collect()"
      ]
    },
    {
      "cell_type": "code",
      "execution_count": 30,
      "metadata": {
        "colab": {
          "base_uri": "https://localhost:8080/"
        },
        "id": "3xaOsAI9AyDw",
        "outputId": "462d9a2f-f42d-445f-be06-b6090d71122f"
      },
      "outputs": [
        {
          "output_type": "execute_result",
          "data": {
            "text/plain": [
              "30"
            ]
          },
          "metadata": {},
          "execution_count": 30
        }
      ],
      "source": [
        "num.reduce(lambda a,b: a+b)"
      ]
    },
    {
      "cell_type": "code",
      "execution_count": 31,
      "metadata": {
        "colab": {
          "base_uri": "https://localhost:8080/"
        },
        "id": "6ddB0QckBCWY",
        "outputId": "9c16d0bf-175c-4b71-8822-56bb1e407527"
      },
      "outputs": [
        {
          "output_type": "execute_result",
          "data": {
            "text/plain": [
              "10800"
            ]
          },
          "metadata": {},
          "execution_count": 31
        }
      ],
      "source": [
        "num.reduce(lambda a,b: a*b)"
      ]
    },
    {
      "cell_type": "code",
      "execution_count": 32,
      "metadata": {
        "colab": {
          "base_uri": "https://localhost:8080/"
        },
        "id": "OD7sAuI3BKsH",
        "outputId": "2e793afd-486e-4c6e-f8b9-375e056289e4"
      },
      "outputs": [
        {
          "output_type": "execute_result",
          "data": {
            "text/plain": [
              "9"
            ]
          },
          "metadata": {},
          "execution_count": 32
        }
      ],
      "source": [
        "num.reduce(lambda x,y : x if x > y else y)"
      ]
    },
    {
      "cell_type": "code",
      "execution_count": 33,
      "metadata": {
        "colab": {
          "base_uri": "https://localhost:8080/"
        },
        "id": "Lp2UjucDBc7G",
        "outputId": "4aea6cee-f7de-486e-81f7-91987a5a6048"
      },
      "outputs": [
        {
          "output_type": "execute_result",
          "data": {
            "text/plain": [
              "2"
            ]
          },
          "metadata": {},
          "execution_count": 33
        }
      ],
      "source": [
        "num.reduce(lambda x,y : x if x < y else y)"
      ]
    },
    {
      "cell_type": "code",
      "execution_count": 34,
      "metadata": {
        "id": "T-t-lSDkBhNm"
      },
      "outputs": [],
      "source": [
        "def myfun(a,b):      #myfun is an user define function\n",
        "  return a*2 + b*2"
      ]
    },
    {
      "cell_type": "code",
      "execution_count": 35,
      "metadata": {
        "colab": {
          "base_uri": "https://localhost:8080/"
        },
        "id": "klutmbS1Bsk2",
        "outputId": "6270c4f9-0953-4653-f8fc-e6bc9fa38fde"
      },
      "outputs": [
        {
          "output_type": "execute_result",
          "data": {
            "text/plain": [
              "232"
            ]
          },
          "metadata": {},
          "execution_count": 35
        }
      ],
      "source": [
        "num.reduce(myfun)"
      ]
    },
    {
      "cell_type": "code",
      "execution_count": 36,
      "metadata": {
        "colab": {
          "base_uri": "https://localhost:8080/"
        },
        "id": "haDfKmzUCDbA",
        "outputId": "8df73dd1-f028-4a4d-ce62-caca5c7fb0d4"
      },
      "outputs": [
        {
          "output_type": "execute_result",
          "data": {
            "text/plain": [
              "[2, 2, 3]"
            ]
          },
          "metadata": {},
          "execution_count": 36
        }
      ],
      "source": [
        "num.takeOrdered(3)   #this will ordered first three elements"
      ]
    },
    {
      "cell_type": "markdown",
      "metadata": {
        "id": "C3QW4lIv4Sbo"
      },
      "source": [
        "## Fold() Action\n",
        "\n",
        "---\n",
        "\n"
      ]
    },
    {
      "cell_type": "code",
      "execution_count": 37,
      "metadata": {
        "colab": {
          "base_uri": "https://localhost:8080/"
        },
        "id": "-0_VnjRcCfWu",
        "outputId": "9710f8cb-3a63-49e2-8ae2-bee9014b4953"
      },
      "outputs": [
        {
          "output_type": "execute_result",
          "data": {
            "text/plain": [
              "[5, 5, 4, 3, 2, 9, 2]"
            ]
          },
          "metadata": {},
          "execution_count": 37
        }
      ],
      "source": [
        "num = sc.parallelize([5,5,4,3,2,9,2],3)\n",
        "num.collect()"
      ]
    },
    {
      "cell_type": "code",
      "execution_count": 38,
      "metadata": {
        "colab": {
          "base_uri": "https://localhost:8080/"
        },
        "id": "XSdxR5Ms4xvG",
        "outputId": "2782dcad-63b4-44d9-9d3b-dfa95678a4d4"
      },
      "outputs": [
        {
          "output_type": "execute_result",
          "data": {
            "text/plain": [
              "[[5, 5], [4, 3], [2, 9, 2]]"
            ]
          },
          "metadata": {},
          "execution_count": 38
        }
      ],
      "source": [
        "num.glom().collect()"
      ]
    },
    {
      "cell_type": "code",
      "execution_count": 39,
      "metadata": {
        "colab": {
          "base_uri": "https://localhost:8080/"
        },
        "id": "Izl8HhRuCnMI",
        "outputId": "6bf04662-8760-4159-a09b-c8420274ea71"
      },
      "outputs": [
        {
          "output_type": "execute_result",
          "data": {
            "text/plain": [
              "30"
            ]
          },
          "metadata": {},
          "execution_count": 39
        }
      ],
      "source": [
        "num.reduce(lambda a,b:a+b)    #this return sum of all the numbers"
      ]
    },
    {
      "cell_type": "code",
      "execution_count": 40,
      "metadata": {
        "colab": {
          "base_uri": "https://localhost:8080/"
        },
        "id": "Mi7NCBrmHAgu",
        "outputId": "05853792-70eb-4a69-c837-e0d1f94af1d2"
      },
      "outputs": [
        {
          "output_type": "execute_result",
          "data": {
            "text/plain": [
              "10800"
            ]
          },
          "metadata": {},
          "execution_count": 40
        }
      ],
      "source": [
        "num.reduce(lambda a,b:a*b)    ##this return multiplication of all the numbers"
      ]
    },
    {
      "cell_type": "code",
      "execution_count": 41,
      "metadata": {
        "colab": {
          "base_uri": "https://localhost:8080/"
        },
        "id": "ECS0_on03Ffi",
        "outputId": "9f22ad69-2d10-4fcc-d441-709df0e3ce36"
      },
      "outputs": [
        {
          "output_type": "execute_result",
          "data": {
            "text/plain": [
              "30"
            ]
          },
          "metadata": {},
          "execution_count": 41
        }
      ],
      "source": [
        "num.fold(0,lambda a,b:a+b)"
      ]
    },
    {
      "cell_type": "code",
      "execution_count": 42,
      "metadata": {
        "colab": {
          "base_uri": "https://localhost:8080/"
        },
        "id": "SC5adBrz3Mlw",
        "outputId": "27aa7be2-6160-4ea9-9f97-98ee28349eae"
      },
      "outputs": [
        {
          "output_type": "execute_result",
          "data": {
            "text/plain": [
              "0"
            ]
          },
          "metadata": {},
          "execution_count": 42
        }
      ],
      "source": [
        "num.fold(0,lambda a,b:a*b)"
      ]
    },
    {
      "cell_type": "code",
      "execution_count": 43,
      "metadata": {
        "colab": {
          "base_uri": "https://localhost:8080/"
        },
        "id": "rwhQNC0rHDv9",
        "outputId": "17a520e5-731d-48ca-fb62-c079157b5665"
      },
      "outputs": [
        {
          "output_type": "execute_result",
          "data": {
            "text/plain": [
              "34"
            ]
          },
          "metadata": {},
          "execution_count": 43
        }
      ],
      "source": [
        "num.fold(1,lambda a,b:a+b)  #num.glom().collect() -> [[5, 5], [4, 3], [2, 9, 2]], no of partitions are 3 \n",
        "                            #and all together 1 paritition so total partitions = 4. \n",
        "                            # 30 + 4 = 34\n",
        "                            # this returns, sum of all the numbers(30) + no of partitions(4) "
      ]
    },
    {
      "cell_type": "code",
      "execution_count": 44,
      "metadata": {
        "colab": {
          "base_uri": "https://localhost:8080/"
        },
        "id": "TpPtZiydHRE7",
        "outputId": "9db3ca9d-17e8-466e-e72b-7162a53db625"
      },
      "outputs": [
        {
          "output_type": "execute_result",
          "data": {
            "text/plain": [
              "30"
            ]
          },
          "metadata": {},
          "execution_count": 44
        }
      ],
      "source": [
        "from operator import add\n",
        "b=sc.parallelize([5,5,4,3,2,9,2],3)\n",
        "b.fold(0,add)"
      ]
    },
    {
      "cell_type": "code",
      "execution_count": 45,
      "metadata": {
        "colab": {
          "base_uri": "https://localhost:8080/"
        },
        "id": "eVW0SH-v_Deq",
        "outputId": "e5eec24c-3350-4f54-aab4-2c94eb22ea7a"
      },
      "outputs": [
        {
          "output_type": "execute_result",
          "data": {
            "text/plain": [
              "34"
            ]
          },
          "metadata": {},
          "execution_count": 45
        }
      ],
      "source": [
        "from operator import add\n",
        "b=sc.parallelize([5,5,4,3,2,9,2],3)\n",
        "b.fold(1,add)"
      ]
    },
    {
      "cell_type": "code",
      "execution_count": 53,
      "metadata": {
        "colab": {
          "base_uri": "https://localhost:8080/"
        },
        "id": "5UUZpr7WHbrT",
        "outputId": "7a021d6a-4361-4fef-e4aa-ef5af526c7dd"
      },
      "outputs": [
        {
          "output_type": "execute_result",
          "data": {
            "text/plain": [
              "10800"
            ]
          },
          "metadata": {},
          "execution_count": 53
        }
      ],
      "source": [
        "from operator import add,mul\n",
        "num3=sc.parallelize([5,5,4,3,2,9,2]).fold(1,mul)\n",
        "num3"
      ]
    },
    {
      "cell_type": "markdown",
      "source": [
        "## Create a RDD using range function"
      ],
      "metadata": {
        "id": "4DpzyaWNeX96"
      }
    },
    {
      "cell_type": "code",
      "source": [
        "b = sc.parallelize(range(1,10))"
      ],
      "metadata": {
        "id": "UUyeMUoreGZj"
      },
      "execution_count": 50,
      "outputs": []
    },
    {
      "cell_type": "code",
      "source": [
        "b.collect()"
      ],
      "metadata": {
        "colab": {
          "base_uri": "https://localhost:8080/"
        },
        "id": "EWSAWeQCeOtF",
        "outputId": "3e53b7b8-390d-4eeb-a31e-85171f4adbc7"
      },
      "execution_count": 51,
      "outputs": [
        {
          "output_type": "execute_result",
          "data": {
            "text/plain": [
              "[1, 2, 3, 4, 5, 6, 7, 8, 9]"
            ]
          },
          "metadata": {},
          "execution_count": 51
        }
      ]
    }
  ],
  "metadata": {
    "colab": {
      "provenance": [],
      "mount_file_id": "1wSpp5jbP9zO5ikv3wz-BAgjA9rz3Fl8V",
      "authorship_tag": "ABX9TyNE2tcq0gyEjJYSb0VLu1Ci",
      "include_colab_link": true
    },
    "kernelspec": {
      "display_name": "Python 3",
      "name": "python3"
    },
    "language_info": {
      "name": "python"
    }
  },
  "nbformat": 4,
  "nbformat_minor": 0
}