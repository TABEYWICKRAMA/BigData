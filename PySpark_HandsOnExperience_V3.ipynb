{
  "cells": [
    {
      "cell_type": "markdown",
      "metadata": {
        "id": "view-in-github",
        "colab_type": "text"
      },
      "source": [
        "<a href=\"https://colab.research.google.com/github/TABEYWICKRAMA/BigData/blob/main/PySpark_HandsOnExperience_V3.ipynb\" target=\"_parent\"><img src=\"https://colab.research.google.com/assets/colab-badge.svg\" alt=\"Open In Colab\"/></a>"
      ]
    },
    {
      "cell_type": "markdown",
      "metadata": {
        "id": "cG6dUNOjLD2V"
      },
      "source": [
        "\n",
        "*   SparkContext is the main entry point to use PySpark features.\n",
        "*   SparkContext represents the connection to a Spark Cluster.\n",
        "*   Only one SparkContext must be active per JVM.\n",
        "*   must stop() the active SparkContext before creating new one."
      ]
    },
    {
      "cell_type": "code",
      "execution_count": null,
      "metadata": {
        "colab": {
          "base_uri": "https://localhost:8080/"
        },
        "id": "V39eqc0Y2LxG",
        "outputId": "8178264b-f9da-4e51-8c2d-5b796d6679c2"
      },
      "outputs": [
        {
          "name": "stdout",
          "output_type": "stream",
          "text": [
            "Looking in indexes: https://pypi.org/simple, https://us-python.pkg.dev/colab-wheels/public/simple/\n",
            "Requirement already satisfied: pyspark in /usr/local/lib/python3.8/dist-packages (3.3.1)\n",
            "Requirement already satisfied: py4j==0.10.9.5 in /usr/local/lib/python3.8/dist-packages (from pyspark) (0.10.9.5)\n"
          ]
        }
      ],
      "source": [
        "#install PySpark\n",
        "!pip install pyspark"
      ]
    },
    {
      "cell_type": "code",
      "execution_count": null,
      "metadata": {
        "id": "eWpjxfKn2AYf"
      },
      "outputs": [],
      "source": [
        "# Import SparkContext and SparkConf\n",
        "from pyspark import SparkContext, SparkConf"
      ]
    },
    {
      "cell_type": "markdown",
      "metadata": {
        "id": "-q0AYLT4MqOI"
      },
      "source": [
        "## One way to create SparkContext"
      ]
    },
    {
      "cell_type": "markdown",
      "metadata": {
        "id": "mMURxiHzNJYh"
      },
      "source": [
        "\n",
        "\n",
        "*   SparkContext - use to get PySpark features.\n",
        "*   SparkConf    - use to define configurations. (ex: AppName) these configurations are useful when creating SparkContext\n",
        "\n"
      ]
    },
    {
      "cell_type": "code",
      "execution_count": null,
      "metadata": {
        "id": "xyxmk4xF2CtU"
      },
      "outputs": [],
      "source": [
        "conf = SparkConf().setAppName(\"PysparkBasics\").setMaster(\"local\")     #define configurations\n",
        "sc = SparkContext(conf=conf)        #create SparkContext using created configurations "
      ]
    },
    {
      "cell_type": "code",
      "execution_count": null,
      "metadata": {
        "colab": {
          "base_uri": "https://localhost:8080/"
        },
        "id": "r24EQnhx2ZBD",
        "outputId": "1a2106eb-8b10-45f6-b191-491a965e00cb"
      },
      "outputs": [
        {
          "data": {
            "text/plain": [
              "[('spark.master', 'local'),\n",
              " ('spark.driver.extraJavaOptions',\n",
              "  '-XX:+IgnoreUnrecognizedVMOptions --add-opens=java.base/java.lang=ALL-UNNAMED --add-opens=java.base/java.lang.invoke=ALL-UNNAMED --add-opens=java.base/java.lang.reflect=ALL-UNNAMED --add-opens=java.base/java.io=ALL-UNNAMED --add-opens=java.base/java.net=ALL-UNNAMED --add-opens=java.base/java.nio=ALL-UNNAMED --add-opens=java.base/java.util=ALL-UNNAMED --add-opens=java.base/java.util.concurrent=ALL-UNNAMED --add-opens=java.base/java.util.concurrent.atomic=ALL-UNNAMED --add-opens=java.base/sun.nio.ch=ALL-UNNAMED --add-opens=java.base/sun.nio.cs=ALL-UNNAMED --add-opens=java.base/sun.security.action=ALL-UNNAMED --add-opens=java.base/sun.util.calendar=ALL-UNNAMED --add-opens=java.security.jgss/sun.security.krb5=ALL-UNNAMED'),\n",
              " ('spark.app.startTime', '1673087414000'),\n",
              " ('spark.executor.id', 'driver'),\n",
              " ('spark.driver.port', '41157'),\n",
              " ('spark.app.submitTime', '1673071517404'),\n",
              " ('spark.rdd.compress', 'True'),\n",
              " ('spark.executor.extraJavaOptions',\n",
              "  '-XX:+IgnoreUnrecognizedVMOptions --add-opens=java.base/java.lang=ALL-UNNAMED --add-opens=java.base/java.lang.invoke=ALL-UNNAMED --add-opens=java.base/java.lang.reflect=ALL-UNNAMED --add-opens=java.base/java.io=ALL-UNNAMED --add-opens=java.base/java.net=ALL-UNNAMED --add-opens=java.base/java.nio=ALL-UNNAMED --add-opens=java.base/java.util=ALL-UNNAMED --add-opens=java.base/java.util.concurrent=ALL-UNNAMED --add-opens=java.base/java.util.concurrent.atomic=ALL-UNNAMED --add-opens=java.base/sun.nio.ch=ALL-UNNAMED --add-opens=java.base/sun.nio.cs=ALL-UNNAMED --add-opens=java.base/sun.security.action=ALL-UNNAMED --add-opens=java.base/sun.util.calendar=ALL-UNNAMED --add-opens=java.security.jgss/sun.security.krb5=ALL-UNNAMED'),\n",
              " ('spark.app.name', 'PysparkBasics'),\n",
              " ('spark.serializer.objectStreamReset', '100'),\n",
              " ('spark.submit.pyFiles', ''),\n",
              " ('spark.submit.deployMode', 'client'),\n",
              " ('spark.driver.host', '7314cdb05fe6'),\n",
              " ('spark.app.id', 'local-1673087414096'),\n",
              " ('spark.ui.showConsoleProgress', 'true')]"
            ]
          },
          "execution_count": 121,
          "metadata": {},
          "output_type": "execute_result"
        }
      ],
      "source": [
        "sc.getConf().getAll()   #show all the configurations that are relevant for this SparkContext"
      ]
    },
    {
      "cell_type": "code",
      "execution_count": null,
      "metadata": {
        "id": "GbuacayF3FOu"
      },
      "outputs": [],
      "source": [
        "# sc.stop()     #used to stop active SparkContext"
      ]
    },
    {
      "cell_type": "markdown",
      "metadata": {
        "id": "W5VbEEyKXpyf"
      },
      "source": [
        "## RDD - Reselient Distributed Dataset\n",
        "\n",
        "\n",
        "*   RDD is much like a Dataset.\n",
        "*   we can create RDD using HDFS Storage, Local Storage or .csv or anyway\n",
        "*   RDD could be divided into multiple partitions. accessing these RDDs faster. \n",
        "\n",
        "\n",
        "\n",
        "\n"
      ]
    },
    {
      "cell_type": "markdown",
      "metadata": {
        "id": "DICJdY6lZDC2"
      },
      "source": [
        "Before apply ML algorithm into RDD we need to preprocess the data. this is called as \"Operations\" in PySpark. Operations on RDD,\n",
        "1.   Transformations\n",
        "\n",
        "        *   map()\n",
        "        *   flatmap()\n",
        "        *   filter()\n",
        "        *   distinct()\n",
        "        *   reduceByKey()\n",
        "        *   groupByKey()\n",
        "        *   mapValues()\n",
        "        *   flatMapValues()\n",
        "        *   sortByKey()\n",
        "\n",
        "2.   Action\n",
        "\n",
        "        *   Collect()\n",
        "        *   Count()\n",
        "        *   countByValue()\n",
        "        *   Take()\n",
        "        *   Top()\n",
        "        *   Reduce()\n",
        "        *   Fold()\n",
        "        *   Foreach()\n",
        "        *   savaAsTextFile()\n",
        "\n",
        "---\n",
        "\n",
        "\n",
        "\n"
      ]
    },
    {
      "cell_type": "markdown",
      "metadata": {
        "id": "_2E-5OtwZsxk"
      },
      "source": [
        "*   Transformations : In PySpark Transformations are \"Lazly evaluated\". That's mean, when we perform Transformation it will create a new RDD. \n",
        "  *   when we apply any Transformation on RDD it will create **DAG** (Directed Acyclic Graph)\n",
        "\n",
        "\n",
        "\n",
        "*   Action : when we apply a Action on RDD it will give us a perticular value(integer, string, etc). \n",
        "  *   when we apply an Action on RDD, it will execute all of the transformations apply on the RDD.\n",
        "\n",
        "\n"
      ]
    },
    {
      "cell_type": "markdown",
      "metadata": {
        "id": "AsHezGvy4o_6"
      },
      "source": [
        "## Create RDD and their Basic Actions"
      ]
    },
    {
      "cell_type": "markdown",
      "metadata": {
        "id": "DnnVPz_Veibi"
      },
      "source": [
        "***parallelize function - use to distribute data among the cluster***"
      ]
    },
    {
      "cell_type": "code",
      "execution_count": null,
      "metadata": {
        "id": "0U9iHtHP4geF"
      },
      "outputs": [],
      "source": [
        "names = sc.parallelize(['Adam','Cray','Shaun','Brain','Mark','Christ','Frans','Mark','Adam','Adam','Bill'])\n",
        "# in here 'names' is the RDD"
      ]
    },
    {
      "cell_type": "code",
      "execution_count": null,
      "metadata": {
        "colab": {
          "base_uri": "https://localhost:8080/"
        },
        "id": "8armrc9q5GIw",
        "outputId": "c310c6e3-193c-4a05-c20e-b357c14eb271"
      },
      "outputs": [
        {
          "data": {
            "text/plain": [
              "pyspark.rdd.RDD"
            ]
          },
          "execution_count": 124,
          "metadata": {},
          "output_type": "execute_result"
        }
      ],
      "source": [
        "type(names)"
      ]
    },
    {
      "cell_type": "code",
      "execution_count": null,
      "metadata": {
        "colab": {
          "base_uri": "https://localhost:8080/"
        },
        "id": "faogfYAm5JNC",
        "outputId": "f90bb1c4-2fcf-482c-8759-632d54a0b613"
      },
      "outputs": [
        {
          "data": {
            "text/plain": [
              "defaultdict(int,\n",
              "            {'Adam': 3,\n",
              "             'Cray': 1,\n",
              "             'Shaun': 1,\n",
              "             'Brain': 1,\n",
              "             'Mark': 2,\n",
              "             'Christ': 1,\n",
              "             'Frans': 1,\n",
              "             'Bill': 1})"
            ]
          },
          "execution_count": 125,
          "metadata": {},
          "output_type": "execute_result"
        }
      ],
      "source": [
        "names.countByValue()"
      ]
    },
    {
      "cell_type": "code",
      "execution_count": null,
      "metadata": {
        "colab": {
          "base_uri": "https://localhost:8080/"
        },
        "id": "djrn4gOY5PMK",
        "outputId": "87bfd838-cffd-41cd-db2c-9175bae519c4"
      },
      "outputs": [
        {
          "data": {
            "text/plain": [
              "['Adam',\n",
              " 'Cray',\n",
              " 'Shaun',\n",
              " 'Brain',\n",
              " 'Mark',\n",
              " 'Christ',\n",
              " 'Frans',\n",
              " 'Mark',\n",
              " 'Adam',\n",
              " 'Adam',\n",
              " 'Bill']"
            ]
          },
          "execution_count": 126,
          "metadata": {},
          "output_type": "execute_result"
        }
      ],
      "source": [
        "names.collect()     #when we use 'collect' all the data will come to the RAM"
      ]
    },
    {
      "cell_type": "code",
      "execution_count": null,
      "metadata": {
        "colab": {
          "base_uri": "https://localhost:8080/"
        },
        "id": "Y-WvWcrj5be6",
        "outputId": "b6ed5643-b322-48e0-ac3a-b729955e7f5d"
      },
      "outputs": [
        {
          "data": {
            "text/plain": [
              "['Adam', 'Cray', 'Shaun', 'Brain', 'Mark']"
            ]
          },
          "execution_count": 127,
          "metadata": {},
          "output_type": "execute_result"
        }
      ],
      "source": [
        "names.take(5)         #we use 'take' keyword, using this we can load only necessary data to RAM.\n",
        "# this will return first 5 values"
      ]
    },
    {
      "cell_type": "markdown",
      "metadata": {
        "id": "7KtH3Sonh_Py"
      },
      "source": [
        "## Foreach \n",
        "*   Foreach is an action\n",
        "*   this takes each element and applies a function. \n",
        "*   but Foreach does not return any value. \n",
        "*   this is useful for perform some calculation on an RDD and log the result somewhere else. \n",
        "\n",
        "\n",
        "\n"
      ]
    },
    {
      "cell_type": "code",
      "execution_count": null,
      "metadata": {
        "id": "MEGeLWDSgim0"
      },
      "outputs": [],
      "source": [
        "def f(x): print(x)\n",
        "a=sc.parallelize([1,2,3,4,5]).foreach(lambda x : print(x))"
      ]
    },
    {
      "cell_type": "code",
      "execution_count": null,
      "metadata": {
        "colab": {
          "base_uri": "https://localhost:8080/"
        },
        "id": "SBqtBRbAh3MI",
        "outputId": "a82c26cd-ed7b-4d9c-ad3c-425aaa57d62b"
      },
      "outputs": [
        {
          "data": {
            "text/plain": [
              "NoneType"
            ]
          },
          "execution_count": 129,
          "metadata": {},
          "output_type": "execute_result"
        }
      ],
      "source": [
        "type(a)"
      ]
    },
    {
      "cell_type": "code",
      "execution_count": null,
      "metadata": {
        "id": "_idv_5jR158b"
      },
      "outputs": [],
      "source": [
        "employees = sc.textFile(\"/content/drive/MyDrive/PySpark/names.txt.txt\")\n",
        "# in here we use 'names.txt' file as our RDD"
      ]
    },
    {
      "cell_type": "code",
      "execution_count": null,
      "metadata": {
        "colab": {
          "base_uri": "https://localhost:8080/"
        },
        "id": "U3BPF0-j2DcU",
        "outputId": "206bc946-dba7-47b5-9e55-993c55112747"
      },
      "outputs": [
        {
          "data": {
            "text/plain": [
              "pyspark.rdd.RDD"
            ]
          },
          "execution_count": 131,
          "metadata": {},
          "output_type": "execute_result"
        }
      ],
      "source": [
        "type(employees)"
      ]
    },
    {
      "cell_type": "code",
      "execution_count": null,
      "metadata": {
        "colab": {
          "base_uri": "https://localhost:8080/"
        },
        "id": "rqw9nm6n2GIj",
        "outputId": "557aa190-af58-4205-c6d6-704e4c97c36f"
      },
      "outputs": [
        {
          "data": {
            "text/plain": [
              "[\"'Adam'\",\n",
              " \"'Cray'\",\n",
              " \"'Shaun'\",\n",
              " \"'Mark'\",\n",
              " \"'Christ'\",\n",
              " \"'Frans'\",\n",
              " \"'Mark'\",\n",
              " \"'Adam'\",\n",
              " \"'Adam'\",\n",
              " \"'Bill'\",\n",
              " \"'Adam'\",\n",
              " \"'Cray'\",\n",
              " \"'Shaun'\",\n",
              " \"'Brain'\",\n",
              " \"'Mark'\",\n",
              " \"'Christ'\",\n",
              " \"'Frans'\",\n",
              " \"'Mark'\",\n",
              " \"'Adam'\",\n",
              " \"'Adam'\",\n",
              " \"'Bill'\"]"
            ]
          },
          "execution_count": 132,
          "metadata": {},
          "output_type": "execute_result"
        }
      ],
      "source": [
        "employees.collect()"
      ]
    },
    {
      "cell_type": "code",
      "execution_count": null,
      "metadata": {
        "colab": {
          "base_uri": "https://localhost:8080/",
          "height": 35
        },
        "id": "b08Hbqor2Un0",
        "outputId": "c1b2d460-c6ac-4041-8d50-762bbe087d3f"
      },
      "outputs": [
        {
          "data": {
            "application/vnd.google.colaboratory.intrinsic+json": {
              "type": "string"
            },
            "text/plain": [
              "\"'Adam'\""
            ]
          },
          "execution_count": 133,
          "metadata": {},
          "output_type": "execute_result"
        }
      ],
      "source": [
        "employees.first()"
      ]
    },
    {
      "cell_type": "code",
      "execution_count": null,
      "metadata": {
        "colab": {
          "base_uri": "https://localhost:8080/"
        },
        "id": "CxFrom1A28hq",
        "outputId": "206901c2-20ec-4500-94fa-3b2d17cea2e2"
      },
      "outputs": [
        {
          "data": {
            "text/plain": [
              "21"
            ]
          },
          "execution_count": 134,
          "metadata": {},
          "output_type": "execute_result"
        }
      ],
      "source": [
        "employees.count()"
      ]
    },
    {
      "cell_type": "code",
      "execution_count": null,
      "metadata": {
        "colab": {
          "base_uri": "https://localhost:8080/"
        },
        "id": "9EJ-qJOm3BEz",
        "outputId": "c75e23a2-9fed-45d3-f010-ecf368663af6"
      },
      "outputs": [
        {
          "data": {
            "text/plain": [
              "[\"'Shaun'\", \"'Shaun'\", \"'Mark'\", \"'Mark'\", \"'Mark'\"]"
            ]
          },
          "execution_count": 135,
          "metadata": {},
          "output_type": "execute_result"
        }
      ],
      "source": [
        "employees.top(5)"
      ]
    },
    {
      "cell_type": "code",
      "execution_count": null,
      "metadata": {
        "colab": {
          "base_uri": "https://localhost:8080/"
        },
        "id": "AKAIvrGA3SmD",
        "outputId": "fd13d8ab-2808-472f-c4af-cb88270bad08"
      },
      "outputs": [
        {
          "data": {
            "text/plain": [
              "8"
            ]
          },
          "execution_count": 136,
          "metadata": {},
          "output_type": "execute_result"
        }
      ],
      "source": [
        "employees.distinct().count()"
      ]
    },
    {
      "cell_type": "markdown",
      "metadata": {
        "id": "SXPBDcDV9TrP"
      },
      "source": [
        "## Taking number example for better clarity"
      ]
    },
    {
      "cell_type": "code",
      "execution_count": null,
      "metadata": {
        "id": "iNUBcDE64aQy"
      },
      "outputs": [],
      "source": [
        "num = sc.parallelize([5,5,4,3,2,9,2],3)"
      ]
    },
    {
      "cell_type": "code",
      "execution_count": null,
      "metadata": {
        "colab": {
          "base_uri": "https://localhost:8080/"
        },
        "id": "Cc8Lz4NG9rLw",
        "outputId": "fbe14519-30dd-4924-f2b6-9ad6d6d4c54f"
      },
      "outputs": [
        {
          "data": {
            "text/plain": [
              "defaultdict(int, {5: 2, 4: 1, 3: 1, 2: 2, 9: 1})"
            ]
          },
          "execution_count": 138,
          "metadata": {},
          "output_type": "execute_result"
        }
      ],
      "source": [
        "num.countByValue()      #this prints how many times each value comes."
      ]
    },
    {
      "cell_type": "code",
      "execution_count": null,
      "metadata": {
        "colab": {
          "base_uri": "https://localhost:8080/"
        },
        "id": "fzJFqnB19wuo",
        "outputId": "73b511c3-b89c-40c2-8de5-9a50cf0b93f0"
      },
      "outputs": [
        {
          "data": {
            "text/plain": [
              "pyspark.rdd.RDD"
            ]
          },
          "execution_count": 139,
          "metadata": {},
          "output_type": "execute_result"
        }
      ],
      "source": [
        "type(num)"
      ]
    },
    {
      "cell_type": "markdown",
      "metadata": {
        "id": "nt0hPg7t97ZI"
      },
      "source": [
        "## GLOM : RDD OF TUPLES"
      ]
    },
    {
      "cell_type": "markdown",
      "metadata": {
        "id": "41XWVuTsz2YN"
      },
      "source": [
        "*   Spark does not allow the worker to  refer to the specific partitions in RDD. \n",
        "*   Because in Spark, information is stored in different different partitions in each RDD.\n",
        "*   but GLOM transform each partition into tuple.\n",
        "*   we use GLOM function to make each partitions into tuple.\n"
      ]
    },
    {
      "cell_type": "code",
      "execution_count": null,
      "metadata": {
        "colab": {
          "base_uri": "https://localhost:8080/"
        },
        "id": "3YbXowqg98ZH",
        "outputId": "361ae6fe-323b-4adc-801c-60e74efdd655"
      },
      "outputs": [
        {
          "data": {
            "text/plain": [
              "[[5, 5], [4, 3], [2, 9, 2]]"
            ]
          },
          "execution_count": 164,
          "metadata": {},
          "output_type": "execute_result"
        }
      ],
      "source": [
        "num.glom().collect()     #num = sc.parallelize([5,5,4,3,2,9,2],3) ->   [[5, 5], [4, 3], [2, 9, 2]] \n",
        "                         # because we gave numSlices = 3. (no of partitions = no of lists = numSlices)"
      ]
    },
    {
      "cell_type": "code",
      "execution_count": null,
      "metadata": {
        "colab": {
          "base_uri": "https://localhost:8080/"
        },
        "id": "aXXlp26S-aSy",
        "outputId": "cb541b6c-4b94-456a-f170-8a09434ae20d"
      },
      "outputs": [
        {
          "data": {
            "text/plain": [
              "[4, 3]"
            ]
          },
          "execution_count": 141,
          "metadata": {},
          "output_type": "execute_result"
        }
      ],
      "source": [
        "num.glom().collect()[1]"
      ]
    },
    {
      "cell_type": "code",
      "execution_count": null,
      "metadata": {
        "colab": {
          "base_uri": "https://localhost:8080/"
        },
        "id": "b0ZbjUxn-eBv",
        "outputId": "148f9d7f-b5e9-4df9-c63d-e8f9c8f08750"
      },
      "outputs": [
        {
          "data": {
            "text/plain": [
              "pyspark.rdd.PipelinedRDD"
            ]
          },
          "execution_count": 142,
          "metadata": {},
          "output_type": "execute_result"
        }
      ],
      "source": [
        "type(num.glom())"
      ]
    },
    {
      "cell_type": "code",
      "execution_count": null,
      "metadata": {
        "colab": {
          "base_uri": "https://localhost:8080/"
        },
        "id": "4EqldNgh-krf",
        "outputId": "e3318362-e85c-498d-b776-0e7fd49b1251"
      },
      "outputs": [
        {
          "data": {
            "text/plain": [
              "9"
            ]
          },
          "execution_count": 143,
          "metadata": {},
          "output_type": "execute_result"
        }
      ],
      "source": [
        "num.max()"
      ]
    },
    {
      "cell_type": "code",
      "execution_count": null,
      "metadata": {
        "colab": {
          "base_uri": "https://localhost:8080/"
        },
        "id": "kbDZKKGY-2Y3",
        "outputId": "02a9c52b-8d25-41d2-ed26-da9770ec5299"
      },
      "outputs": [
        {
          "data": {
            "text/plain": [
              "2"
            ]
          },
          "execution_count": 144,
          "metadata": {},
          "output_type": "execute_result"
        }
      ],
      "source": [
        "num.min()"
      ]
    },
    {
      "cell_type": "code",
      "execution_count": null,
      "metadata": {
        "colab": {
          "base_uri": "https://localhost:8080/"
        },
        "id": "uOnBnxaz-553",
        "outputId": "2360a584-1d61-48f0-e9f5-0cc2179fde17"
      },
      "outputs": [
        {
          "data": {
            "text/plain": [
              "4.285714285714286"
            ]
          },
          "execution_count": 145,
          "metadata": {},
          "output_type": "execute_result"
        }
      ],
      "source": [
        "num.mean()"
      ]
    },
    {
      "cell_type": "markdown",
      "metadata": {
        "id": "fiBcGYlvAqUA"
      },
      "source": [
        "## Reduce() Action\n",
        "\n",
        "---\n",
        "\n",
        "\n"
      ]
    },
    {
      "cell_type": "code",
      "execution_count": null,
      "metadata": {
        "colab": {
          "base_uri": "https://localhost:8080/"
        },
        "id": "fOpCC4rtAoyo",
        "outputId": "0733643f-64c5-4877-8b24-da073ee8771e"
      },
      "outputs": [
        {
          "data": {
            "text/plain": [
              "[5, 5, 4, 3, 2, 9, 2]"
            ]
          },
          "execution_count": 146,
          "metadata": {},
          "output_type": "execute_result"
        }
      ],
      "source": [
        "num.collect()"
      ]
    },
    {
      "cell_type": "code",
      "execution_count": null,
      "metadata": {
        "colab": {
          "base_uri": "https://localhost:8080/"
        },
        "id": "3xaOsAI9AyDw",
        "outputId": "98ccede3-9181-446b-a830-eab081caea3f"
      },
      "outputs": [
        {
          "data": {
            "text/plain": [
              "30"
            ]
          },
          "execution_count": 147,
          "metadata": {},
          "output_type": "execute_result"
        }
      ],
      "source": [
        "num.reduce(lambda a,b: a+b)"
      ]
    },
    {
      "cell_type": "code",
      "execution_count": null,
      "metadata": {
        "colab": {
          "base_uri": "https://localhost:8080/"
        },
        "id": "6ddB0QckBCWY",
        "outputId": "2a3ae248-bf54-44a3-95d2-b5a80bcc0442"
      },
      "outputs": [
        {
          "data": {
            "text/plain": [
              "10800"
            ]
          },
          "execution_count": 148,
          "metadata": {},
          "output_type": "execute_result"
        }
      ],
      "source": [
        "num.reduce(lambda a,b: a*b)"
      ]
    },
    {
      "cell_type": "code",
      "execution_count": null,
      "metadata": {
        "colab": {
          "base_uri": "https://localhost:8080/"
        },
        "id": "OD7sAuI3BKsH",
        "outputId": "e44f70ac-5ce1-4dc4-bac5-87f88cb02a6e"
      },
      "outputs": [
        {
          "data": {
            "text/plain": [
              "9"
            ]
          },
          "execution_count": 149,
          "metadata": {},
          "output_type": "execute_result"
        }
      ],
      "source": [
        "num.reduce(lambda x,y : x if x > y else y)"
      ]
    },
    {
      "cell_type": "code",
      "execution_count": null,
      "metadata": {
        "colab": {
          "base_uri": "https://localhost:8080/"
        },
        "id": "Lp2UjucDBc7G",
        "outputId": "ddcffdcd-b0f2-4c0a-d155-f02411337a6f"
      },
      "outputs": [
        {
          "data": {
            "text/plain": [
              "2"
            ]
          },
          "execution_count": 150,
          "metadata": {},
          "output_type": "execute_result"
        }
      ],
      "source": [
        "num.reduce(lambda x,y : x if x < y else y)"
      ]
    },
    {
      "cell_type": "code",
      "execution_count": null,
      "metadata": {
        "id": "T-t-lSDkBhNm"
      },
      "outputs": [],
      "source": [
        "def myfun(a,b):      #myfun is an user define function\n",
        "  return a*2 + b*2"
      ]
    },
    {
      "cell_type": "code",
      "execution_count": null,
      "metadata": {
        "colab": {
          "base_uri": "https://localhost:8080/"
        },
        "id": "klutmbS1Bsk2",
        "outputId": "4b643afb-f146-4136-a572-4ef4c29665c8"
      },
      "outputs": [
        {
          "data": {
            "text/plain": [
              "232"
            ]
          },
          "execution_count": 152,
          "metadata": {},
          "output_type": "execute_result"
        }
      ],
      "source": [
        "num.reduce(myfun)"
      ]
    },
    {
      "cell_type": "code",
      "execution_count": null,
      "metadata": {
        "colab": {
          "base_uri": "https://localhost:8080/"
        },
        "id": "haDfKmzUCDbA",
        "outputId": "daea1afe-8d16-418e-bac0-6bc558d7dc83"
      },
      "outputs": [
        {
          "data": {
            "text/plain": [
              "[2, 2, 3]"
            ]
          },
          "execution_count": 166,
          "metadata": {},
          "output_type": "execute_result"
        }
      ],
      "source": [
        "num.takeOrdered(3)   #this will ordered first three elements"
      ]
    },
    {
      "cell_type": "markdown",
      "metadata": {
        "id": "C3QW4lIv4Sbo"
      },
      "source": [
        "## Fold() Action\n",
        "\n",
        "---\n",
        "\n"
      ]
    },
    {
      "cell_type": "code",
      "execution_count": null,
      "metadata": {
        "colab": {
          "base_uri": "https://localhost:8080/"
        },
        "id": "-0_VnjRcCfWu",
        "outputId": "911249e3-b49c-4b32-9244-1bc9d5af6696"
      },
      "outputs": [
        {
          "data": {
            "text/plain": [
              "[5, 5, 4, 3, 2, 9, 2]"
            ]
          },
          "execution_count": 213,
          "metadata": {},
          "output_type": "execute_result"
        }
      ],
      "source": [
        "num = sc.parallelize([5,5,4,3,2,9,2],3)\n",
        "num.collect()"
      ]
    },
    {
      "cell_type": "code",
      "execution_count": null,
      "metadata": {
        "colab": {
          "base_uri": "https://localhost:8080/"
        },
        "id": "XSdxR5Ms4xvG",
        "outputId": "aaf6f73a-0542-48ce-f643-cfb37586dd82"
      },
      "outputs": [
        {
          "data": {
            "text/plain": [
              "[[5, 5], [4, 3], [2, 9, 2]]"
            ]
          },
          "execution_count": 214,
          "metadata": {},
          "output_type": "execute_result"
        }
      ],
      "source": [
        "num.glom().collect()"
      ]
    },
    {
      "cell_type": "code",
      "execution_count": null,
      "metadata": {
        "colab": {
          "base_uri": "https://localhost:8080/"
        },
        "id": "Izl8HhRuCnMI",
        "outputId": "66911aa0-6a51-4eae-a570-5532b06252db"
      },
      "outputs": [
        {
          "data": {
            "text/plain": [
              "30"
            ]
          },
          "execution_count": 215,
          "metadata": {},
          "output_type": "execute_result"
        }
      ],
      "source": [
        "num.reduce(lambda a,b:a+b)    #this return sum of all the numbers"
      ]
    },
    {
      "cell_type": "code",
      "execution_count": null,
      "metadata": {
        "colab": {
          "base_uri": "https://localhost:8080/"
        },
        "id": "Mi7NCBrmHAgu",
        "outputId": "bef1f926-564f-47aa-8d35-5728d80bea93"
      },
      "outputs": [
        {
          "data": {
            "text/plain": [
              "10800"
            ]
          },
          "execution_count": 193,
          "metadata": {},
          "output_type": "execute_result"
        }
      ],
      "source": [
        "num.reduce(lambda a,b:a*b)    ##this return multiplication of all the numbers"
      ]
    },
    {
      "cell_type": "code",
      "execution_count": null,
      "metadata": {
        "colab": {
          "base_uri": "https://localhost:8080/"
        },
        "id": "ECS0_on03Ffi",
        "outputId": "31842011-3c25-4297-ddf9-455108452ecd"
      },
      "outputs": [
        {
          "data": {
            "text/plain": [
              "30"
            ]
          },
          "execution_count": 216,
          "metadata": {},
          "output_type": "execute_result"
        }
      ],
      "source": [
        "num.fold(0,lambda a,b:a+b)"
      ]
    },
    {
      "cell_type": "code",
      "execution_count": null,
      "metadata": {
        "colab": {
          "base_uri": "https://localhost:8080/"
        },
        "id": "SC5adBrz3Mlw",
        "outputId": "178d817e-9591-47ce-c92b-837f5f8d5260"
      },
      "outputs": [
        {
          "data": {
            "text/plain": [
              "0"
            ]
          },
          "execution_count": 181,
          "metadata": {},
          "output_type": "execute_result"
        }
      ],
      "source": [
        "num.fold(0,lambda a,b:a*b)"
      ]
    },
    {
      "cell_type": "code",
      "execution_count": null,
      "metadata": {
        "colab": {
          "base_uri": "https://localhost:8080/"
        },
        "id": "rwhQNC0rHDv9",
        "outputId": "aa982886-d337-4d7c-b122-2009ddaa96a5"
      },
      "outputs": [
        {
          "data": {
            "text/plain": [
              "34"
            ]
          },
          "execution_count": 224,
          "metadata": {},
          "output_type": "execute_result"
        }
      ],
      "source": [
        "num.fold(1,lambda a,b:a+b)  #num.glom().collect() -> [[5, 5], [4, 3], [2, 9, 2]], no of partitions are 3 \n",
        "                            #and all together 1 paritition so total partitions = 4. \n",
        "                            # 30 + 4 = 34\n",
        "                            # this returns, sum of all the numbers(30) + no of partitions(4) "
      ]
    },
    {
      "cell_type": "code",
      "execution_count": null,
      "metadata": {
        "colab": {
          "base_uri": "https://localhost:8080/"
        },
        "id": "TpPtZiydHRE7",
        "outputId": "78e8f9f4-6cab-4b8f-9265-fa0855b4bf02"
      },
      "outputs": [
        {
          "data": {
            "text/plain": [
              "30"
            ]
          },
          "execution_count": 226,
          "metadata": {},
          "output_type": "execute_result"
        }
      ],
      "source": [
        "from operator import add\n",
        "b=sc.parallelize([5,5,4,3,2,9,2],3)\n",
        "b.fold(0,add)"
      ]
    },
    {
      "cell_type": "code",
      "execution_count": null,
      "metadata": {
        "colab": {
          "base_uri": "https://localhost:8080/"
        },
        "id": "eVW0SH-v_Deq",
        "outputId": "dadef766-d047-4af7-c291-28d21387722b"
      },
      "outputs": [
        {
          "data": {
            "text/plain": [
              "34"
            ]
          },
          "execution_count": 227,
          "metadata": {},
          "output_type": "execute_result"
        }
      ],
      "source": [
        "from operator import add\n",
        "b=sc.parallelize([5,5,4,3,2,9,2],3)\n",
        "b.fold(1,add)"
      ]
    },
    {
      "cell_type": "code",
      "execution_count": null,
      "metadata": {
        "colab": {
          "background_save": true,
          "base_uri": "https://localhost:8080/",
          "height": 130
        },
        "id": "5UUZpr7WHbrT",
        "outputId": "491bb5f4-f550-4ece-fdfd-e1d23dcda40f"
      },
      "outputs": [
        {
          "ename": "AttributeError",
          "evalue": "ignored",
          "output_type": "error",
          "traceback": [
            "\u001b[0;31m---------------------------------------------------------------------------\u001b[0m",
            "\u001b[0;31mAttributeError\u001b[0m                            Traceback (most recent call last)",
            "\u001b[0;32m<ipython-input-232-ccf9a50243bb>\u001b[0m in \u001b[0;36m<module>\u001b[0;34m\u001b[0m\n\u001b[1;32m      1\u001b[0m \u001b[0;32mfrom\u001b[0m \u001b[0moperator\u001b[0m \u001b[0;32mimport\u001b[0m \u001b[0madd\u001b[0m\u001b[0;34m,\u001b[0m\u001b[0mmul\u001b[0m\u001b[0;34m\u001b[0m\u001b[0;34m\u001b[0m\u001b[0m\n\u001b[0;32m----> 2\u001b[0;31m \u001b[0mnum3\u001b[0m\u001b[0;34m=\u001b[0m\u001b[0msc\u001b[0m\u001b[0;34m.\u001b[0m\u001b[0mparallelize\u001b[0m\u001b[0;34m(\u001b[0m\u001b[0;34m[\u001b[0m\u001b[0;36m5\u001b[0m\u001b[0;34m,\u001b[0m\u001b[0;36m5\u001b[0m\u001b[0;34m,\u001b[0m\u001b[0;36m4\u001b[0m\u001b[0;34m,\u001b[0m\u001b[0;36m3\u001b[0m\u001b[0;34m,\u001b[0m\u001b[0;36m2\u001b[0m\u001b[0;34m,\u001b[0m\u001b[0;36m9\u001b[0m\u001b[0;34m,\u001b[0m\u001b[0;36m2\u001b[0m\u001b[0;34m]\u001b[0m\u001b[0;34m.\u001b[0m\u001b[0mfold\u001b[0m\u001b[0;34m(\u001b[0m\u001b[0;36m10\u001b[0m\u001b[0;34m,\u001b[0m\u001b[0mmul\u001b[0m\u001b[0;34m)\u001b[0m\u001b[0;34m)\u001b[0m\u001b[0;34m\u001b[0m\u001b[0;34m\u001b[0m\u001b[0m\n\u001b[0m\u001b[1;32m      3\u001b[0m \u001b[0mnum3\u001b[0m\u001b[0;34m\u001b[0m\u001b[0;34m\u001b[0m\u001b[0m\n",
            "\u001b[0;31mAttributeError\u001b[0m: 'list' object has no attribute 'fold'"
          ]
        }
      ],
      "source": [
        "from operator import add,mul\n",
        "num3=sc.parallelize([5,5,4,3,2,9,2].fold(10,mul)\n",
        "num3"
      ]
    }
  ],
  "metadata": {
    "colab": {
      "provenance": [],
      "mount_file_id": "1wSpp5jbP9zO5ikv3wz-BAgjA9rz3Fl8V",
      "authorship_tag": "ABX9TyMjo6E6h9T2dw5nWDeuATYY",
      "include_colab_link": true
    },
    "kernelspec": {
      "display_name": "Python 3",
      "name": "python3"
    },
    "language_info": {
      "name": "python"
    }
  },
  "nbformat": 4,
  "nbformat_minor": 0
}