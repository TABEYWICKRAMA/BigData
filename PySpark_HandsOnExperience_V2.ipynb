{
  "nbformat": 4,
  "nbformat_minor": 0,
  "metadata": {
    "colab": {
      "provenance": [],
      "mount_file_id": "1wSpp5jbP9zO5ikv3wz-BAgjA9rz3Fl8V",
      "authorship_tag": "ABX9TyMTx1CMDJHFKwqeuC5+Kioq",
      "include_colab_link": true
    },
    "kernelspec": {
      "name": "python3",
      "display_name": "Python 3"
    },
    "language_info": {
      "name": "python"
    }
  },
  "cells": [
    {
      "cell_type": "markdown",
      "metadata": {
        "id": "view-in-github",
        "colab_type": "text"
      },
      "source": [
        "<a href=\"https://colab.research.google.com/github/TABEYWICKRAMA/BigData/blob/main/PySpark_HandsOnExperience_V2.ipynb\" target=\"_parent\"><img src=\"https://colab.research.google.com/assets/colab-badge.svg\" alt=\"Open In Colab\"/></a>"
      ]
    },
    {
      "cell_type": "code",
      "source": [
        "!pip install pyspark"
      ],
      "metadata": {
        "colab": {
          "base_uri": "https://localhost:8080/"
        },
        "id": "V39eqc0Y2LxG",
        "outputId": "bf2c3b2d-9627-4767-ef95-e50427b5574e"
      },
      "execution_count": 59,
      "outputs": [
        {
          "output_type": "stream",
          "name": "stdout",
          "text": [
            "Looking in indexes: https://pypi.org/simple, https://us-python.pkg.dev/colab-wheels/public/simple/\n",
            "Requirement already satisfied: pyspark in /usr/local/lib/python3.8/dist-packages (3.3.1)\n",
            "Requirement already satisfied: py4j==0.10.9.5 in /usr/local/lib/python3.8/dist-packages (from pyspark) (0.10.9.5)\n"
          ]
        }
      ]
    },
    {
      "cell_type": "code",
      "execution_count": 60,
      "metadata": {
        "id": "eWpjxfKn2AYf"
      },
      "outputs": [],
      "source": [
        "# Import SparkContext\n",
        "from pyspark import SparkContext, SparkConf"
      ]
    },
    {
      "cell_type": "code",
      "source": [
        "conf = SparkConf().setAppName(\"PysparkBasics\").setMaster(\"local\")\n",
        "sc = SparkContext(conf=conf)"
      ],
      "metadata": {
        "id": "xyxmk4xF2CtU"
      },
      "execution_count": 64,
      "outputs": []
    },
    {
      "cell_type": "code",
      "source": [
        "sc.getConf().getAll()   #show all the configurations that I created for this SparkContext"
      ],
      "metadata": {
        "colab": {
          "base_uri": "https://localhost:8080/"
        },
        "id": "r24EQnhx2ZBD",
        "outputId": "f2d88079-34c1-4e8d-8e17-48ee76a89207"
      },
      "execution_count": 65,
      "outputs": [
        {
          "output_type": "execute_result",
          "data": {
            "text/plain": [
              "[('spark.master', 'local'),\n",
              " ('spark.driver.extraJavaOptions',\n",
              "  '-XX:+IgnoreUnrecognizedVMOptions --add-opens=java.base/java.lang=ALL-UNNAMED --add-opens=java.base/java.lang.invoke=ALL-UNNAMED --add-opens=java.base/java.lang.reflect=ALL-UNNAMED --add-opens=java.base/java.io=ALL-UNNAMED --add-opens=java.base/java.net=ALL-UNNAMED --add-opens=java.base/java.nio=ALL-UNNAMED --add-opens=java.base/java.util=ALL-UNNAMED --add-opens=java.base/java.util.concurrent=ALL-UNNAMED --add-opens=java.base/java.util.concurrent.atomic=ALL-UNNAMED --add-opens=java.base/sun.nio.ch=ALL-UNNAMED --add-opens=java.base/sun.nio.cs=ALL-UNNAMED --add-opens=java.base/sun.security.action=ALL-UNNAMED --add-opens=java.base/sun.util.calendar=ALL-UNNAMED --add-opens=java.security.jgss/sun.security.krb5=ALL-UNNAMED'),\n",
              " ('spark.app.startTime', '1673076074486'),\n",
              " ('spark.executor.id', 'driver'),\n",
              " ('spark.app.submitTime', '1673071517404'),\n",
              " ('spark.rdd.compress', 'True'),\n",
              " ('spark.executor.extraJavaOptions',\n",
              "  '-XX:+IgnoreUnrecognizedVMOptions --add-opens=java.base/java.lang=ALL-UNNAMED --add-opens=java.base/java.lang.invoke=ALL-UNNAMED --add-opens=java.base/java.lang.reflect=ALL-UNNAMED --add-opens=java.base/java.io=ALL-UNNAMED --add-opens=java.base/java.net=ALL-UNNAMED --add-opens=java.base/java.nio=ALL-UNNAMED --add-opens=java.base/java.util=ALL-UNNAMED --add-opens=java.base/java.util.concurrent=ALL-UNNAMED --add-opens=java.base/java.util.concurrent.atomic=ALL-UNNAMED --add-opens=java.base/sun.nio.ch=ALL-UNNAMED --add-opens=java.base/sun.nio.cs=ALL-UNNAMED --add-opens=java.base/sun.security.action=ALL-UNNAMED --add-opens=java.base/sun.util.calendar=ALL-UNNAMED --add-opens=java.security.jgss/sun.security.krb5=ALL-UNNAMED'),\n",
              " ('spark.app.name', 'PysparkBasics'),\n",
              " ('spark.serializer.objectStreamReset', '100'),\n",
              " ('spark.submit.pyFiles', ''),\n",
              " ('spark.driver.port', '36485'),\n",
              " ('spark.submit.deployMode', 'client'),\n",
              " ('spark.driver.host', '7314cdb05fe6'),\n",
              " ('spark.app.id', 'local-1673076074563'),\n",
              " ('spark.ui.showConsoleProgress', 'true')]"
            ]
          },
          "metadata": {},
          "execution_count": 65
        }
      ]
    },
    {
      "cell_type": "code",
      "source": [
        "# sc.stop()"
      ],
      "metadata": {
        "id": "GbuacayF3FOu"
      },
      "execution_count": 63,
      "outputs": []
    },
    {
      "cell_type": "markdown",
      "source": [
        "## Create RDD and their Basic Actions"
      ],
      "metadata": {
        "id": "AsHezGvy4o_6"
      }
    },
    {
      "cell_type": "code",
      "source": [
        "names = sc.parallelize(['Adam','Cray','Shaun','Brain','Mark','Christ','Frans','Mark','Adam','Adam','Bill'])"
      ],
      "metadata": {
        "id": "0U9iHtHP4geF"
      },
      "execution_count": 66,
      "outputs": []
    },
    {
      "cell_type": "code",
      "source": [
        "type(names)"
      ],
      "metadata": {
        "colab": {
          "base_uri": "https://localhost:8080/"
        },
        "id": "8armrc9q5GIw",
        "outputId": "8fbcbee0-c90d-4e89-a2cc-c0a32831419a"
      },
      "execution_count": 67,
      "outputs": [
        {
          "output_type": "execute_result",
          "data": {
            "text/plain": [
              "pyspark.rdd.RDD"
            ]
          },
          "metadata": {},
          "execution_count": 67
        }
      ]
    },
    {
      "cell_type": "code",
      "source": [
        "names.countByValue()"
      ],
      "metadata": {
        "colab": {
          "base_uri": "https://localhost:8080/"
        },
        "id": "faogfYAm5JNC",
        "outputId": "b6027e0f-5986-4930-9e9d-1cb7260a7c36"
      },
      "execution_count": 68,
      "outputs": [
        {
          "output_type": "execute_result",
          "data": {
            "text/plain": [
              "defaultdict(int,\n",
              "            {'Adam': 3,\n",
              "             'Cray': 1,\n",
              "             'Shaun': 1,\n",
              "             'Brain': 1,\n",
              "             'Mark': 2,\n",
              "             'Christ': 1,\n",
              "             'Frans': 1,\n",
              "             'Bill': 1})"
            ]
          },
          "metadata": {},
          "execution_count": 68
        }
      ]
    },
    {
      "cell_type": "code",
      "source": [
        "names.collect()     #when we use 'collect' all the data will come to the RAM"
      ],
      "metadata": {
        "colab": {
          "base_uri": "https://localhost:8080/"
        },
        "id": "djrn4gOY5PMK",
        "outputId": "5abe285e-03e1-4e7c-c0cb-e294f5b4e05f"
      },
      "execution_count": 69,
      "outputs": [
        {
          "output_type": "execute_result",
          "data": {
            "text/plain": [
              "['Adam',\n",
              " 'Cray',\n",
              " 'Shaun',\n",
              " 'Brain',\n",
              " 'Mark',\n",
              " 'Christ',\n",
              " 'Frans',\n",
              " 'Mark',\n",
              " 'Adam',\n",
              " 'Adam',\n",
              " 'Bill']"
            ]
          },
          "metadata": {},
          "execution_count": 69
        }
      ]
    },
    {
      "cell_type": "code",
      "source": [
        "names.take(5)         #we use 'take' keyword, using this we can load only necessary data to RAM"
      ],
      "metadata": {
        "colab": {
          "base_uri": "https://localhost:8080/"
        },
        "id": "Y-WvWcrj5be6",
        "outputId": "b6a9425e-34f2-4e7a-f5e3-641a8a86d519"
      },
      "execution_count": 70,
      "outputs": [
        {
          "output_type": "execute_result",
          "data": {
            "text/plain": [
              "['Adam', 'Cray', 'Shaun', 'Brain', 'Mark']"
            ]
          },
          "metadata": {},
          "execution_count": 70
        }
      ]
    },
    {
      "cell_type": "code",
      "source": [
        "employees = sc.textFile(\"/content/drive/MyDrive/PySpark/names.txt.txt\")"
      ],
      "metadata": {
        "id": "_idv_5jR158b"
      },
      "execution_count": 71,
      "outputs": []
    },
    {
      "cell_type": "code",
      "source": [
        "type(employees)"
      ],
      "metadata": {
        "colab": {
          "base_uri": "https://localhost:8080/"
        },
        "id": "U3BPF0-j2DcU",
        "outputId": "bfa8f4f6-6a08-456e-f924-bab6e378d224"
      },
      "execution_count": 72,
      "outputs": [
        {
          "output_type": "execute_result",
          "data": {
            "text/plain": [
              "pyspark.rdd.RDD"
            ]
          },
          "metadata": {},
          "execution_count": 72
        }
      ]
    },
    {
      "cell_type": "code",
      "source": [
        "employees.collect()"
      ],
      "metadata": {
        "colab": {
          "base_uri": "https://localhost:8080/"
        },
        "id": "rqw9nm6n2GIj",
        "outputId": "e870a051-747b-48da-fefd-bb0f4cee2d0c"
      },
      "execution_count": 73,
      "outputs": [
        {
          "output_type": "execute_result",
          "data": {
            "text/plain": [
              "[\"'Adam'\",\n",
              " \"'Cray'\",\n",
              " \"'Shaun'\",\n",
              " \"'Mark'\",\n",
              " \"'Christ'\",\n",
              " \"'Frans'\",\n",
              " \"'Mark'\",\n",
              " \"'Adam'\",\n",
              " \"'Adam'\",\n",
              " \"'Bill'\",\n",
              " \"'Adam'\",\n",
              " \"'Cray'\",\n",
              " \"'Shaun'\",\n",
              " \"'Brain'\",\n",
              " \"'Mark'\",\n",
              " \"'Christ'\",\n",
              " \"'Frans'\",\n",
              " \"'Mark'\",\n",
              " \"'Adam'\",\n",
              " \"'Adam'\",\n",
              " \"'Bill'\"]"
            ]
          },
          "metadata": {},
          "execution_count": 73
        }
      ]
    },
    {
      "cell_type": "code",
      "source": [
        "employees.first()"
      ],
      "metadata": {
        "colab": {
          "base_uri": "https://localhost:8080/",
          "height": 35
        },
        "id": "b08Hbqor2Un0",
        "outputId": "e330de52-11bd-4629-a78e-0c6a6f97234e"
      },
      "execution_count": 74,
      "outputs": [
        {
          "output_type": "execute_result",
          "data": {
            "text/plain": [
              "\"'Adam'\""
            ],
            "application/vnd.google.colaboratory.intrinsic+json": {
              "type": "string"
            }
          },
          "metadata": {},
          "execution_count": 74
        }
      ]
    },
    {
      "cell_type": "code",
      "source": [
        "employees.count()"
      ],
      "metadata": {
        "colab": {
          "base_uri": "https://localhost:8080/"
        },
        "id": "CxFrom1A28hq",
        "outputId": "9a9f59e2-9a4b-44df-c16c-82dd65dc16f0"
      },
      "execution_count": 75,
      "outputs": [
        {
          "output_type": "execute_result",
          "data": {
            "text/plain": [
              "21"
            ]
          },
          "metadata": {},
          "execution_count": 75
        }
      ]
    },
    {
      "cell_type": "code",
      "source": [
        "employees.top(5)"
      ],
      "metadata": {
        "colab": {
          "base_uri": "https://localhost:8080/"
        },
        "id": "9EJ-qJOm3BEz",
        "outputId": "2d433c0f-f4ef-4790-b17e-d78aa65e151b"
      },
      "execution_count": 76,
      "outputs": [
        {
          "output_type": "execute_result",
          "data": {
            "text/plain": [
              "[\"'Shaun'\", \"'Shaun'\", \"'Mark'\", \"'Mark'\", \"'Mark'\"]"
            ]
          },
          "metadata": {},
          "execution_count": 76
        }
      ]
    },
    {
      "cell_type": "code",
      "source": [
        "employees.distinct().count()"
      ],
      "metadata": {
        "colab": {
          "base_uri": "https://localhost:8080/"
        },
        "id": "AKAIvrGA3SmD",
        "outputId": "b2ebb667-440b-4737-99b9-f69b0f6f0b0f"
      },
      "execution_count": 77,
      "outputs": [
        {
          "output_type": "execute_result",
          "data": {
            "text/plain": [
              "8"
            ]
          },
          "metadata": {},
          "execution_count": 77
        }
      ]
    },
    {
      "cell_type": "markdown",
      "source": [
        "## Taking number example for better clarity"
      ],
      "metadata": {
        "id": "SXPBDcDV9TrP"
      }
    },
    {
      "cell_type": "code",
      "source": [
        "num = sc.parallelize([5,5,4,3,2,9,2],3)"
      ],
      "metadata": {
        "id": "iNUBcDE64aQy"
      },
      "execution_count": 78,
      "outputs": []
    },
    {
      "cell_type": "code",
      "source": [
        "num.countByValue()"
      ],
      "metadata": {
        "colab": {
          "base_uri": "https://localhost:8080/"
        },
        "id": "Cc8Lz4NG9rLw",
        "outputId": "581408ac-93cb-42dd-fed8-054b0cdda88f"
      },
      "execution_count": 79,
      "outputs": [
        {
          "output_type": "execute_result",
          "data": {
            "text/plain": [
              "defaultdict(int, {5: 2, 4: 1, 3: 1, 2: 2, 9: 1})"
            ]
          },
          "metadata": {},
          "execution_count": 79
        }
      ]
    },
    {
      "cell_type": "code",
      "source": [
        "type(num)"
      ],
      "metadata": {
        "colab": {
          "base_uri": "https://localhost:8080/"
        },
        "id": "fzJFqnB19wuo",
        "outputId": "d9907d06-dfa9-40a3-d5f3-a6c072df0b04"
      },
      "execution_count": 80,
      "outputs": [
        {
          "output_type": "execute_result",
          "data": {
            "text/plain": [
              "pyspark.rdd.RDD"
            ]
          },
          "metadata": {},
          "execution_count": 80
        }
      ]
    },
    {
      "cell_type": "markdown",
      "source": [
        "## OLOM : RDD OF TUPLES"
      ],
      "metadata": {
        "id": "nt0hPg7t97ZI"
      }
    },
    {
      "cell_type": "code",
      "source": [
        "num.glom().collect()     #num = sc.parallelize([5,5,4,3,2,9,2],3)"
      ],
      "metadata": {
        "colab": {
          "base_uri": "https://localhost:8080/"
        },
        "id": "3YbXowqg98ZH",
        "outputId": "37de76ce-e2b5-40f2-9022-f0ef377175e2"
      },
      "execution_count": 81,
      "outputs": [
        {
          "output_type": "execute_result",
          "data": {
            "text/plain": [
              "[[5, 5], [4, 3], [2, 9, 2]]"
            ]
          },
          "metadata": {},
          "execution_count": 81
        }
      ]
    },
    {
      "cell_type": "code",
      "source": [
        "num.glom().collect()[1]"
      ],
      "metadata": {
        "colab": {
          "base_uri": "https://localhost:8080/"
        },
        "id": "aXXlp26S-aSy",
        "outputId": "56e11342-45ae-46ef-c539-3d2826c8808e"
      },
      "execution_count": 82,
      "outputs": [
        {
          "output_type": "execute_result",
          "data": {
            "text/plain": [
              "[4, 3]"
            ]
          },
          "metadata": {},
          "execution_count": 82
        }
      ]
    },
    {
      "cell_type": "code",
      "source": [
        "type(num.glom())"
      ],
      "metadata": {
        "colab": {
          "base_uri": "https://localhost:8080/"
        },
        "id": "b0ZbjUxn-eBv",
        "outputId": "c31a09cd-2af3-4434-fbc8-601841855270"
      },
      "execution_count": 83,
      "outputs": [
        {
          "output_type": "execute_result",
          "data": {
            "text/plain": [
              "pyspark.rdd.PipelinedRDD"
            ]
          },
          "metadata": {},
          "execution_count": 83
        }
      ]
    },
    {
      "cell_type": "code",
      "source": [
        "num.max()"
      ],
      "metadata": {
        "colab": {
          "base_uri": "https://localhost:8080/"
        },
        "id": "4EqldNgh-krf",
        "outputId": "0da761e1-4a54-48ab-8a72-c53527ef29ca"
      },
      "execution_count": 84,
      "outputs": [
        {
          "output_type": "execute_result",
          "data": {
            "text/plain": [
              "9"
            ]
          },
          "metadata": {},
          "execution_count": 84
        }
      ]
    },
    {
      "cell_type": "code",
      "source": [
        "num.min()"
      ],
      "metadata": {
        "colab": {
          "base_uri": "https://localhost:8080/"
        },
        "id": "kbDZKKGY-2Y3",
        "outputId": "83c94979-4061-46e0-c6b7-629a1c591fc4"
      },
      "execution_count": 85,
      "outputs": [
        {
          "output_type": "execute_result",
          "data": {
            "text/plain": [
              "2"
            ]
          },
          "metadata": {},
          "execution_count": 85
        }
      ]
    },
    {
      "cell_type": "code",
      "source": [
        "num.mean()"
      ],
      "metadata": {
        "colab": {
          "base_uri": "https://localhost:8080/"
        },
        "id": "uOnBnxaz-553",
        "outputId": "8a5e7d5f-f05c-4a90-8470-41006bb4c8ea"
      },
      "execution_count": 86,
      "outputs": [
        {
          "output_type": "execute_result",
          "data": {
            "text/plain": [
              "4.285714285714286"
            ]
          },
          "metadata": {},
          "execution_count": 86
        }
      ]
    },
    {
      "cell_type": "markdown",
      "source": [
        "## -----------Reduce\n"
      ],
      "metadata": {
        "id": "fiBcGYlvAqUA"
      }
    },
    {
      "cell_type": "code",
      "source": [
        "num.collect()"
      ],
      "metadata": {
        "colab": {
          "base_uri": "https://localhost:8080/"
        },
        "id": "fOpCC4rtAoyo",
        "outputId": "2afd8b86-5711-4ce0-d47f-d7c84a1c3816"
      },
      "execution_count": 87,
      "outputs": [
        {
          "output_type": "execute_result",
          "data": {
            "text/plain": [
              "[5, 5, 4, 3, 2, 9, 2]"
            ]
          },
          "metadata": {},
          "execution_count": 87
        }
      ]
    },
    {
      "cell_type": "code",
      "source": [
        "num.reduce(lambda a,b: a+b)"
      ],
      "metadata": {
        "colab": {
          "base_uri": "https://localhost:8080/"
        },
        "id": "3xaOsAI9AyDw",
        "outputId": "d741720d-2c32-4779-b8f3-cdfab7e7886d"
      },
      "execution_count": 88,
      "outputs": [
        {
          "output_type": "execute_result",
          "data": {
            "text/plain": [
              "30"
            ]
          },
          "metadata": {},
          "execution_count": 88
        }
      ]
    },
    {
      "cell_type": "code",
      "source": [
        "num.reduce(lambda a,b: a*b)"
      ],
      "metadata": {
        "colab": {
          "base_uri": "https://localhost:8080/"
        },
        "id": "6ddB0QckBCWY",
        "outputId": "e8873b9b-3f83-44bb-83c8-66c779edc161"
      },
      "execution_count": 90,
      "outputs": [
        {
          "output_type": "execute_result",
          "data": {
            "text/plain": [
              "10800"
            ]
          },
          "metadata": {},
          "execution_count": 90
        }
      ]
    },
    {
      "cell_type": "code",
      "source": [
        "num.reduce(lambda x,y : x if x > y else y)"
      ],
      "metadata": {
        "colab": {
          "base_uri": "https://localhost:8080/"
        },
        "id": "OD7sAuI3BKsH",
        "outputId": "6087b38c-d36c-4cc8-8a0f-62cd4d0eb160"
      },
      "execution_count": 91,
      "outputs": [
        {
          "output_type": "execute_result",
          "data": {
            "text/plain": [
              "9"
            ]
          },
          "metadata": {},
          "execution_count": 91
        }
      ]
    },
    {
      "cell_type": "code",
      "source": [
        "num.reduce(lambda x,y : x if x < y else y)"
      ],
      "metadata": {
        "colab": {
          "base_uri": "https://localhost:8080/"
        },
        "id": "Lp2UjucDBc7G",
        "outputId": "5285ab89-5ecc-49dc-a7f7-a6e886caf769"
      },
      "execution_count": 92,
      "outputs": [
        {
          "output_type": "execute_result",
          "data": {
            "text/plain": [
              "2"
            ]
          },
          "metadata": {},
          "execution_count": 92
        }
      ]
    },
    {
      "cell_type": "code",
      "source": [
        "def myfun(a,b):\n",
        "  return a*2 + b*2"
      ],
      "metadata": {
        "id": "T-t-lSDkBhNm"
      },
      "execution_count": 93,
      "outputs": []
    },
    {
      "cell_type": "code",
      "source": [
        "num.reduce(myfun)"
      ],
      "metadata": {
        "colab": {
          "base_uri": "https://localhost:8080/"
        },
        "id": "klutmbS1Bsk2",
        "outputId": "351b6a3d-922e-4701-d22d-174e1c5a5528"
      },
      "execution_count": 94,
      "outputs": [
        {
          "output_type": "execute_result",
          "data": {
            "text/plain": [
              "232"
            ]
          },
          "metadata": {},
          "execution_count": 94
        }
      ]
    },
    {
      "cell_type": "code",
      "source": [
        "num.takeOrdered(3)"
      ],
      "metadata": {
        "colab": {
          "base_uri": "https://localhost:8080/"
        },
        "id": "haDfKmzUCDbA",
        "outputId": "c0b82b7c-8194-4347-d27e-252426069b18"
      },
      "execution_count": 95,
      "outputs": [
        {
          "output_type": "execute_result",
          "data": {
            "text/plain": [
              "[2, 2, 3]"
            ]
          },
          "metadata": {},
          "execution_count": 95
        }
      ]
    },
    {
      "cell_type": "code",
      "source": [
        "num = sc.parallelize([5,5,4,3,2,9,2])\n",
        "num.collect()"
      ],
      "metadata": {
        "colab": {
          "base_uri": "https://localhost:8080/"
        },
        "id": "-0_VnjRcCfWu",
        "outputId": "6dd5aaad-a106-47bf-d22d-fea6c37cee19"
      },
      "execution_count": 96,
      "outputs": [
        {
          "output_type": "execute_result",
          "data": {
            "text/plain": [
              "[5, 5, 4, 3, 2, 9, 2]"
            ]
          },
          "metadata": {},
          "execution_count": 96
        }
      ]
    },
    {
      "cell_type": "code",
      "source": [
        "num.reduce(lambda a,b:a+b)"
      ],
      "metadata": {
        "colab": {
          "base_uri": "https://localhost:8080/"
        },
        "id": "Izl8HhRuCnMI",
        "outputId": "403fb9e4-539c-48b4-b541-33f3ac54785c"
      },
      "execution_count": 97,
      "outputs": [
        {
          "output_type": "execute_result",
          "data": {
            "text/plain": [
              "30"
            ]
          },
          "metadata": {},
          "execution_count": 97
        }
      ]
    },
    {
      "cell_type": "code",
      "source": [
        "num.reduce(lambda a,b:a*b)"
      ],
      "metadata": {
        "colab": {
          "base_uri": "https://localhost:8080/"
        },
        "id": "Mi7NCBrmHAgu",
        "outputId": "6dbe5280-8898-4a3e-f954-f8dbd9ce6674"
      },
      "execution_count": 98,
      "outputs": [
        {
          "output_type": "execute_result",
          "data": {
            "text/plain": [
              "10800"
            ]
          },
          "metadata": {},
          "execution_count": 98
        }
      ]
    },
    {
      "cell_type": "code",
      "source": [
        "num.fold(1,lambda a,b:a+b)"
      ],
      "metadata": {
        "colab": {
          "base_uri": "https://localhost:8080/"
        },
        "id": "rwhQNC0rHDv9",
        "outputId": "e135500d-c858-4022-907a-900976e8dc1f"
      },
      "execution_count": 99,
      "outputs": [
        {
          "output_type": "execute_result",
          "data": {
            "text/plain": [
              "32"
            ]
          },
          "metadata": {},
          "execution_count": 99
        }
      ]
    },
    {
      "cell_type": "code",
      "source": [
        "num.fold(1,lambda a,b:a*b)"
      ],
      "metadata": {
        "colab": {
          "base_uri": "https://localhost:8080/"
        },
        "id": "BIBuq60bHIxs",
        "outputId": "6ad41000-17b7-4889-d171-d615e91cd136"
      },
      "execution_count": 100,
      "outputs": [
        {
          "output_type": "execute_result",
          "data": {
            "text/plain": [
              "10800"
            ]
          },
          "metadata": {},
          "execution_count": 100
        }
      ]
    },
    {
      "cell_type": "code",
      "source": [
        "from operator import add\n",
        "b=sc.parallelize([1,2,3,4,5])\n",
        "b.fold(1,add)"
      ],
      "metadata": {
        "colab": {
          "base_uri": "https://localhost:8080/"
        },
        "id": "TpPtZiydHRE7",
        "outputId": "01db8a6e-f6ed-4cf1-8959-3fa878d4948a"
      },
      "execution_count": 101,
      "outputs": [
        {
          "output_type": "execute_result",
          "data": {
            "text/plain": [
              "17"
            ]
          },
          "metadata": {},
          "execution_count": 101
        }
      ]
    },
    {
      "cell_type": "code",
      "source": [
        "from operator import add,mul\n",
        "num3=sc.parallelize([5,5,4,3,2,9,2]).fold(10,mul)\n",
        "num3"
      ],
      "metadata": {
        "colab": {
          "base_uri": "https://localhost:8080/"
        },
        "id": "5UUZpr7WHbrT",
        "outputId": "505f7b5a-f378-4730-ceef-f56ee9180b5f"
      },
      "execution_count": 102,
      "outputs": [
        {
          "output_type": "execute_result",
          "data": {
            "text/plain": [
              "1080000"
            ]
          },
          "metadata": {},
          "execution_count": 102
        }
      ]
    }
  ]
}